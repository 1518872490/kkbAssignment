{
 "cells": [
  {
   "cell_type": "markdown",
   "metadata": {},
   "source": [
    "---\n",
    "# Q:既然内容相似度计算简单，能频繁更新，为什么还需要协同过滤算法呢？\n",
    "---"
   ]
  },
  {
   "cell_type": "markdown",
   "metadata": {},
   "source": [
    "## A:    \n",
    "因为内容相似度只是从静态的物理属性进行的统计，并没有利用用户动态的行为；    \n",
    "\n",
    "用户的行为更有反映用户兴趣的偏好，以及当下的流行。"
   ]
  },
  {
   "cell_type": "markdown",
   "metadata": {},
   "source": [
    "---\n",
    "# Q:你需要推荐系统么？哪些情况下不需要推荐系统？\n",
    "---"
   ]
  },
  {
   "cell_type": "markdown",
   "metadata": {},
   "source": [
    "## A:\n",
    "不是所有的系统都需要推荐系统。创业早期，用户数少，item并不多的时候，不需要协同过滤进行推荐；此时首要目标是通过各种营销手段扩大用户量。\n"
   ]
  },
  {
   "cell_type": "markdown",
   "metadata": {},
   "source": [
    "---\n",
    "# Q:如果给一个视频打标签，视频中有音乐作为背景音乐，采用了NLP方式对内容自动打标签，可能存在什么问题？\n",
    "---"
   ]
  },
  {
   "cell_type": "markdown",
   "metadata": {},
   "source": [
    "## A:\n",
    "由于音乐如果有歌词的话，当用自然语言处理的方法，给视频打标签时会有噪音出现。"
   ]
  },
  {
   "cell_type": "code",
   "execution_count": null,
   "metadata": {},
   "outputs": [],
   "source": []
  }
 ],
 "metadata": {
  "kernelspec": {
   "display_name": "envpy37",
   "language": "python",
   "name": "envpy37"
  },
  "language_info": {
   "codemirror_mode": {
    "name": "ipython",
    "version": 3
   },
   "file_extension": ".py",
   "mimetype": "text/x-python",
   "name": "python",
   "nbconvert_exporter": "python",
   "pygments_lexer": "ipython3",
   "version": "3.8.3"
  },
  "toc-autonumbering": true
 },
 "nbformat": 4,
 "nbformat_minor": 4
}

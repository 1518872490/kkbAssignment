{
 "cells": [
  {
   "cell_type": "code",
   "execution_count": 2,
   "metadata": {
    "colab": {
     "base_uri": "https://localhost:8080/",
     "height": 34
    },
    "colab_type": "code",
    "id": "AYiAvF4r-5GC",
    "outputId": "9a0533dd-185e-4250-916a-2aed07e2cfb3"
   },
   "outputs": [
    {
     "name": "stdout",
     "output_type": "stream",
     "text": [
      "Mounted at /content/drive\n"
     ]
    }
   ],
   "source": [
    "# from google.colab import drive\n",
    "# drive.mount('/content/drive')"
   ]
  },
  {
   "cell_type": "code",
   "execution_count": 3,
   "metadata": {
    "colab": {},
    "colab_type": "code",
    "id": "TrwZtH7S-60L"
   },
   "outputs": [],
   "source": [
    "# import os\n",
    "# os.chdir(\"/content/drive/My Drive/Colab Notebooks/\")"
   ]
  },
  {
   "cell_type": "markdown",
   "metadata": {
    "colab_type": "text",
    "id": "1IPY9zHM7iAU",
    "toc": true
   },
   "source": [
    "<h1>Table of Contents<span class=\"tocSkip\"></span></h1>\n",
    "<div class=\"toc\"><ul class=\"toc-item\"><li><span><a href=\"#1-movielens_sample数据集\" data-toc-modified-id=\"1-movielens_sample数据集-1\">1 movielens_sample数据集</a></span><ul class=\"toc-item\"><li><span><a href=\"#1.1-数据载入\" data-toc-modified-id=\"1.1-数据载入-1.1\">1.1 数据载入</a></span></li><li><span><a href=\"#1.2-数据预处理\" data-toc-modified-id=\"1.2-数据预处理-1.2\">1.2 数据预处理</a></span><ul class=\"toc-item\"><li><span><a href=\"#1.2.1-标签数值化\" data-toc-modified-id=\"1.2.1-标签数值化-1.2.1\">1.2.1 标签数值化</a></span></li><li><span><a href=\"#1.2.2-生成词向量\" data-toc-modified-id=\"1.2.2-生成词向量-1.2.2\">1.2.2 生成词向量</a></span></li></ul></li><li><span><a href=\"#1.3-拆分数据集\" data-toc-modified-id=\"1.3-拆分数据集-1.3\">1.3 拆分数据集</a></span></li><li><span><a href=\"#1.4-使用DeepFM训练\" data-toc-modified-id=\"1.4-使用DeepFM训练-1.4\">1.4 使用DeepFM训练</a></span><ul class=\"toc-item\"><li><span><a href=\"#1.4.1-实例化模型\" data-toc-modified-id=\"1.4.1-实例化模型-1.4.1\">1.4.1 实例化模型</a></span></li><li><span><a href=\"#1.4.2-编译模型\" data-toc-modified-id=\"1.4.2-编译模型-1.4.2\">1.4.2 编译模型</a></span></li><li><span><a href=\"#1.4.3-训练模型\" data-toc-modified-id=\"1.4.3-训练模型-1.4.3\">1.4.3 训练模型</a></span></li></ul></li></ul></li><li><span><a href=\"#2-movielens数据集\" data-toc-modified-id=\"2-movielens数据集-2\">2 movielens数据集</a></span><ul class=\"toc-item\"><li><span><a href=\"#2.1-读入数据\" data-toc-modified-id=\"2.1-读入数据-2.1\">2.1 读入数据</a></span></li><li><span><a href=\"#2.2-预处理\" data-toc-modified-id=\"2.2-预处理-2.2\">2.2 预处理</a></span><ul class=\"toc-item\"><li><span><a href=\"#2.2.1-标签数值化\" data-toc-modified-id=\"2.2.1-标签数值化-2.2.1\">2.2.1 标签数值化</a></span></li><li><span><a href=\"#2.2.2生成词向量\" data-toc-modified-id=\"2.2.2生成词向量-2.2.2\">2.2.2生成词向量</a></span></li></ul></li><li><span><a href=\"#2.3-拆分数据集并为模型生成输入数据\" data-toc-modified-id=\"2.3-拆分数据集并为模型生成输入数据-2.3\">2.3 拆分数据集并为模型生成输入数据</a></span></li><li><span><a href=\"#2.4-用DeepFM建模\" data-toc-modified-id=\"2.4-用DeepFM建模-2.4\">2.4 用DeepFM建模</a></span></li><li><span><a href=\"#2.5-预测及评估\" data-toc-modified-id=\"2.5-预测及评估-2.5\">2.5 预测及评估</a></span></li></ul></li><li><span><a href=\"#3-总结：\" data-toc-modified-id=\"3-总结：-3\">3 总结：</a></span></li></ul></div>"
   ]
  },
  {
   "cell_type": "markdown",
   "metadata": {
    "colab_type": "text",
    "id": "lcmjFZ_j7iAW"
   },
   "source": [
    "Action2:使用DeepFM对movielens进行评分预测    \n",
    "\n",
    "1、使用DeepFM工具进行评分预测，代码正确，可以跑通简单的movielens_sample数据集（10points）    \n",
    "\n",
    "2、可以跑通完整的movielens数据集（10points）"
   ]
  },
  {
   "cell_type": "code",
   "execution_count": 7,
   "metadata": {
    "colab": {},
    "colab_type": "code",
    "id": "JdII3AU37iAX"
   },
   "outputs": [],
   "source": [
    "import pandas as pd\n",
    "from sklearn.preprocessing import LabelEncoder  # 标签数值化\n",
    "from sklearn.metrics import mean_squared_error  # MSE\n",
    "from sklearn.model_selection import train_test_split # 拆分数据集"
   ]
  },
  {
   "cell_type": "code",
   "execution_count": 10,
   "metadata": {
    "colab": {},
    "colab_type": "code",
    "id": "JxcoiI_27iAe"
   },
   "outputs": [],
   "source": [
    "from deepctr.models import DeepFM\n",
    "from deepctr.feature_column import get_feature_names, SparseFeat"
   ]
  },
  {
   "cell_type": "markdown",
   "metadata": {
    "colab_type": "text",
    "id": "n9VOOot57iAh"
   },
   "source": [
    "# 1 movielens_sample数据集"
   ]
  },
  {
   "cell_type": "markdown",
   "metadata": {
    "colab_type": "text",
    "id": "m3UcN5nf7iAi"
   },
   "source": [
    "## 1.1 数据载入"
   ]
  },
  {
   "cell_type": "code",
   "execution_count": 11,
   "metadata": {
    "colab": {},
    "colab_type": "code",
    "id": "YJj1WCNB7iAi"
   },
   "outputs": [],
   "source": [
    "df = pd.read_csv('./movielens_sample.txt')"
   ]
  },
  {
   "cell_type": "code",
   "execution_count": 12,
   "metadata": {
    "colab": {
     "base_uri": "https://localhost:8080/",
     "height": 34
    },
    "colab_type": "code",
    "id": "gmkhhqLj7iAm",
    "outputId": "430f0f28-7e79-48c1-b7a9-00b3d67a0cde"
   },
   "outputs": [
    {
     "data": {
      "text/plain": [
       "(200, 10)"
      ]
     },
     "execution_count": 12,
     "metadata": {
      "tags": []
     },
     "output_type": "execute_result"
    }
   ],
   "source": [
    "df.shape"
   ]
  },
  {
   "cell_type": "code",
   "execution_count": 13,
   "metadata": {
    "colab": {
     "base_uri": "https://localhost:8080/",
     "height": 111
    },
    "colab_type": "code",
    "id": "XM0p4_DG7iBC",
    "outputId": "c20a9a7a-a839-40ed-d3b6-43efb29b6b43"
   },
   "outputs": [
    {
     "data": {
      "text/html": [
       "<div>\n",
       "<style scoped>\n",
       "    .dataframe tbody tr th:only-of-type {\n",
       "        vertical-align: middle;\n",
       "    }\n",
       "\n",
       "    .dataframe tbody tr th {\n",
       "        vertical-align: top;\n",
       "    }\n",
       "\n",
       "    .dataframe thead th {\n",
       "        text-align: right;\n",
       "    }\n",
       "</style>\n",
       "<table border=\"1\" class=\"dataframe\">\n",
       "  <thead>\n",
       "    <tr style=\"text-align: right;\">\n",
       "      <th></th>\n",
       "      <th>user_id</th>\n",
       "      <th>movie_id</th>\n",
       "      <th>rating</th>\n",
       "      <th>timestamp</th>\n",
       "      <th>title</th>\n",
       "      <th>genres</th>\n",
       "      <th>gender</th>\n",
       "      <th>age</th>\n",
       "      <th>occupation</th>\n",
       "      <th>zip</th>\n",
       "    </tr>\n",
       "  </thead>\n",
       "  <tbody>\n",
       "    <tr>\n",
       "      <th>0</th>\n",
       "      <td>3299</td>\n",
       "      <td>235</td>\n",
       "      <td>4</td>\n",
       "      <td>968035345</td>\n",
       "      <td>Ed Wood (1994)</td>\n",
       "      <td>Comedy|Drama</td>\n",
       "      <td>F</td>\n",
       "      <td>25</td>\n",
       "      <td>4</td>\n",
       "      <td>19119</td>\n",
       "    </tr>\n",
       "    <tr>\n",
       "      <th>1</th>\n",
       "      <td>3630</td>\n",
       "      <td>3256</td>\n",
       "      <td>3</td>\n",
       "      <td>966536874</td>\n",
       "      <td>Patriot Games (1992)</td>\n",
       "      <td>Action|Thriller</td>\n",
       "      <td>M</td>\n",
       "      <td>18</td>\n",
       "      <td>4</td>\n",
       "      <td>77005</td>\n",
       "    </tr>\n",
       "  </tbody>\n",
       "</table>\n",
       "</div>"
      ],
      "text/plain": [
       "   user_id  movie_id  rating  timestamp  ... gender age occupation    zip\n",
       "0     3299       235       4  968035345  ...      F  25          4  19119\n",
       "1     3630      3256       3  966536874  ...      M  18          4  77005\n",
       "\n",
       "[2 rows x 10 columns]"
      ]
     },
     "execution_count": 13,
     "metadata": {
      "tags": []
     },
     "output_type": "execute_result"
    }
   ],
   "source": [
    "df.head(2)"
   ]
  },
  {
   "cell_type": "markdown",
   "metadata": {
    "colab_type": "text",
    "id": "5NLWI0y_7iBh"
   },
   "source": [
    "## 1.2 数据预处理"
   ]
  },
  {
   "cell_type": "code",
   "execution_count": 14,
   "metadata": {
    "colab": {},
    "colab_type": "code",
    "id": "O63tJ16G7iBi"
   },
   "outputs": [],
   "source": [
    "# 稀疏特征和目标值\n",
    "sparse_features = [\"user_id\", \"movie_id\", \"gender\", \"age\", \"occupation\", \"zip\"]\n",
    "target = ['rating']"
   ]
  },
  {
   "cell_type": "markdown",
   "metadata": {
    "colab_type": "text",
    "id": "rDvfOZgR7iBs"
   },
   "source": [
    "### 1.2.1 标签数值化"
   ]
  },
  {
   "cell_type": "code",
   "execution_count": 15,
   "metadata": {
    "colab": {},
    "colab_type": "code",
    "id": "kATKMUCq7iBt"
   },
   "outputs": [],
   "source": [
    "for f in sparse_features:\n",
    "    transfer = LabelEncoder()\n",
    "    df[f] = transfer.fit_transform(df[f])"
   ]
  },
  {
   "cell_type": "code",
   "execution_count": 16,
   "metadata": {
    "colab": {
     "base_uri": "https://localhost:8080/",
     "height": 111
    },
    "colab_type": "code",
    "id": "QloUvXZV7iB6",
    "outputId": "376d5118-ba26-44f0-a560-70fe6e077b6a"
   },
   "outputs": [
    {
     "data": {
      "text/html": [
       "<div>\n",
       "<style scoped>\n",
       "    .dataframe tbody tr th:only-of-type {\n",
       "        vertical-align: middle;\n",
       "    }\n",
       "\n",
       "    .dataframe tbody tr th {\n",
       "        vertical-align: top;\n",
       "    }\n",
       "\n",
       "    .dataframe thead th {\n",
       "        text-align: right;\n",
       "    }\n",
       "</style>\n",
       "<table border=\"1\" class=\"dataframe\">\n",
       "  <thead>\n",
       "    <tr style=\"text-align: right;\">\n",
       "      <th></th>\n",
       "      <th>user_id</th>\n",
       "      <th>movie_id</th>\n",
       "      <th>rating</th>\n",
       "      <th>timestamp</th>\n",
       "      <th>title</th>\n",
       "      <th>genres</th>\n",
       "      <th>gender</th>\n",
       "      <th>age</th>\n",
       "      <th>occupation</th>\n",
       "      <th>zip</th>\n",
       "    </tr>\n",
       "  </thead>\n",
       "  <tbody>\n",
       "    <tr>\n",
       "      <th>0</th>\n",
       "      <td>107</td>\n",
       "      <td>12</td>\n",
       "      <td>4</td>\n",
       "      <td>968035345</td>\n",
       "      <td>Ed Wood (1994)</td>\n",
       "      <td>Comedy|Drama</td>\n",
       "      <td>0</td>\n",
       "      <td>2</td>\n",
       "      <td>4</td>\n",
       "      <td>35</td>\n",
       "    </tr>\n",
       "    <tr>\n",
       "      <th>1</th>\n",
       "      <td>123</td>\n",
       "      <td>169</td>\n",
       "      <td>3</td>\n",
       "      <td>966536874</td>\n",
       "      <td>Patriot Games (1992)</td>\n",
       "      <td>Action|Thriller</td>\n",
       "      <td>1</td>\n",
       "      <td>1</td>\n",
       "      <td>4</td>\n",
       "      <td>118</td>\n",
       "    </tr>\n",
       "  </tbody>\n",
       "</table>\n",
       "</div>"
      ],
      "text/plain": [
       "   user_id  movie_id  rating  timestamp  ... gender age  occupation  zip\n",
       "0      107        12       4  968035345  ...      0   2           4   35\n",
       "1      123       169       3  966536874  ...      1   1           4  118\n",
       "\n",
       "[2 rows x 10 columns]"
      ]
     },
     "execution_count": 16,
     "metadata": {
      "tags": []
     },
     "output_type": "execute_result"
    }
   ],
   "source": [
    "df.head(2)"
   ]
  },
  {
   "cell_type": "markdown",
   "metadata": {
    "colab_type": "text",
    "id": "HIFznYBr7iB8"
   },
   "source": [
    "### 1.2.2 生成词向量"
   ]
  },
  {
   "cell_type": "code",
   "execution_count": 17,
   "metadata": {
    "colab": {},
    "colab_type": "code",
    "id": "SvWi0bJ_7iB9"
   },
   "outputs": [],
   "source": [
    "# df[f].nunique() 计算每个特征中不同特征值的个数\n",
    "fixlen_feature_columns = [SparseFeat(f, df[f].nunique()) for f in sparse_features]"
   ]
  },
  {
   "cell_type": "code",
   "execution_count": 18,
   "metadata": {
    "colab": {
     "base_uri": "https://localhost:8080/",
     "height": 34
    },
    "colab_type": "code",
    "id": "ojVH2lQR7iCA",
    "outputId": "c5947a15-23a9-4f33-f43b-fd970acf10b0"
   },
   "outputs": [
    {
     "data": {
      "text/plain": [
       "deepctr.feature_column.SparseFeat"
      ]
     },
     "execution_count": 18,
     "metadata": {
      "tags": []
     },
     "output_type": "execute_result"
    }
   ],
   "source": [
    "type(fixlen_feature_columns[0])"
   ]
  },
  {
   "cell_type": "code",
   "execution_count": 19,
   "metadata": {
    "colab": {
     "base_uri": "https://localhost:8080/",
     "height": 54
    },
    "colab_type": "code",
    "id": "UQgjWAET7iCD",
    "outputId": "38c05704-c073-47be-8b54-1241d578240e",
    "scrolled": true
   },
   "outputs": [
    {
     "name": "stdout",
     "output_type": "stream",
     "text": [
      "SparseFeat(name='user_id', vocabulary_size=193, embedding_dim=4, use_hash=False, dtype='int32', embeddings_initializer=<tensorflow.python.keras.initializers.initializers_v1.RandomNormal object at 0x7efe7e8673c8>, embedding_name='user_id', group_name='default_group', trainable=True)\n"
     ]
    }
   ],
   "source": [
    "print(fixlen_feature_columns[0])"
   ]
  },
  {
   "cell_type": "code",
   "execution_count": 20,
   "metadata": {
    "colab": {},
    "colab_type": "code",
    "id": "cnn7nNoU7iCF"
   },
   "outputs": [],
   "source": [
    "linear_feature_columns = fixlen_feature_columns\n",
    "dnn_feature_columns = fixlen_feature_columns"
   ]
  },
  {
   "cell_type": "code",
   "execution_count": 21,
   "metadata": {
    "colab": {},
    "colab_type": "code",
    "id": "UIaNZ8Wf7iCJ"
   },
   "outputs": [],
   "source": [
    "feature_names = get_feature_names(linear_feature_columns + dnn_feature_columns)"
   ]
  },
  {
   "cell_type": "code",
   "execution_count": 22,
   "metadata": {
    "colab": {
     "base_uri": "https://localhost:8080/",
     "height": 34
    },
    "colab_type": "code",
    "id": "90IFw9gW7iCL",
    "outputId": "0afd790d-246d-41c6-8acd-22cf1cdc355d"
   },
   "outputs": [
    {
     "data": {
      "text/plain": [
       "(list, 6)"
      ]
     },
     "execution_count": 22,
     "metadata": {
      "tags": []
     },
     "output_type": "execute_result"
    }
   ],
   "source": [
    "type(feature_names), len(feature_names)"
   ]
  },
  {
   "cell_type": "code",
   "execution_count": 23,
   "metadata": {
    "colab": {
     "base_uri": "https://localhost:8080/",
     "height": 34
    },
    "colab_type": "code",
    "id": "CdcLd2i87iCN",
    "outputId": "b6ea0c9f-a02f-42c9-ba7c-756d6a0e1ac8"
   },
   "outputs": [
    {
     "data": {
      "text/plain": [
       "['user_id', 'movie_id', 'gender', 'age', 'occupation', 'zip']"
      ]
     },
     "execution_count": 23,
     "metadata": {
      "tags": []
     },
     "output_type": "execute_result"
    }
   ],
   "source": [
    "feature_names"
   ]
  },
  {
   "cell_type": "markdown",
   "metadata": {
    "colab_type": "text",
    "id": "LguEHLpt7iCR"
   },
   "source": [
    "## 1.3 拆分数据集"
   ]
  },
  {
   "cell_type": "code",
   "execution_count": 24,
   "metadata": {
    "colab": {
     "base_uri": "https://localhost:8080/",
     "height": 34
    },
    "colab_type": "code",
    "id": "dJzF7zWq7iCR",
    "outputId": "16c01156-5104-4f33-ce2b-7d865e1ec349"
   },
   "outputs": [
    {
     "data": {
      "text/plain": [
       "((160, 6), (40, 6))"
      ]
     },
     "execution_count": 24,
     "metadata": {
      "tags": []
     },
     "output_type": "execute_result"
    }
   ],
   "source": [
    "x_train, x_test, y_train, y_test = train_test_split(df[feature_names], \n",
    "                                                    df['rating'], \n",
    "                                                    test_size=0.2, \n",
    "                                                    random_state=30)\n",
    "x_train.shape, x_test.shape"
   ]
  },
  {
   "cell_type": "code",
   "execution_count": 25,
   "metadata": {
    "colab": {},
    "colab_type": "code",
    "id": "kcz1h20b7iCU"
   },
   "outputs": [],
   "source": [
    "x_train_dict = {name: x_train[name].values for name in feature_names}"
   ]
  },
  {
   "cell_type": "code",
   "execution_count": 26,
   "metadata": {
    "colab": {},
    "colab_type": "code",
    "id": "K5LwTm3G7iCV"
   },
   "outputs": [],
   "source": [
    "x_test_dict = {name: x_test[name].values for name in feature_names}"
   ]
  },
  {
   "cell_type": "markdown",
   "metadata": {
    "colab_type": "text",
    "id": "kQSohXhp7iCe"
   },
   "source": [
    "## 1.4 使用DeepFM训练"
   ]
  },
  {
   "cell_type": "markdown",
   "metadata": {
    "colab_type": "text",
    "id": "zMRNuoqz7iCf"
   },
   "source": [
    "### 1.4.1 实例化模型"
   ]
  },
  {
   "cell_type": "code",
   "execution_count": 27,
   "metadata": {
    "colab": {},
    "colab_type": "code",
    "id": "5v-w37oY7iCg"
   },
   "outputs": [],
   "source": [
    "model = DeepFM(linear_feature_columns=linear_feature_columns,  # 包含模型线性部分所使用的所有特征的迭代器\n",
    "               dnn_feature_columns=dnn_feature_columns,  # 一个包含模型深层部分使用的所有特征的迭代器\n",
    "               task='regression' # 回归任务\n",
    "              )"
   ]
  },
  {
   "cell_type": "markdown",
   "metadata": {
    "colab_type": "text",
    "id": "avW9iUXK7iCi"
   },
   "source": [
    "### 1.4.2 编译模型"
   ]
  },
  {
   "cell_type": "code",
   "execution_count": 28,
   "metadata": {
    "colab": {},
    "colab_type": "code",
    "id": "4ei-f6jL7iCi"
   },
   "outputs": [],
   "source": [
    "model.compile(optimizer='adam', loss='mse', metrics=['mse'])"
   ]
  },
  {
   "cell_type": "markdown",
   "metadata": {
    "colab_type": "text",
    "id": "SKLTxC9j7iCk"
   },
   "source": [
    "### 1.4.3 训练模型"
   ]
  },
  {
   "cell_type": "code",
   "execution_count": 29,
   "metadata": {
    "colab": {
     "base_uri": "https://localhost:8080/",
     "height": 34
    },
    "colab_type": "code",
    "id": "3cND2dTs7iCl",
    "outputId": "eb2c5c42-6622-41b4-ae13-00178ef55801"
   },
   "outputs": [
    {
     "data": {
      "text/plain": [
       "(160,)"
      ]
     },
     "execution_count": 29,
     "metadata": {
      "tags": []
     },
     "output_type": "execute_result"
    }
   ],
   "source": [
    "y_train.shape"
   ]
  },
  {
   "cell_type": "code",
   "execution_count": 30,
   "metadata": {
    "colab": {},
    "colab_type": "code",
    "id": "lgqY5Rzg7iCt"
   },
   "outputs": [],
   "source": [
    "y_train = y_train.values.reshape((-1, 1))\n",
    "y_test = y_test.values.reshape(-1, 1)"
   ]
  },
  {
   "cell_type": "code",
   "execution_count": 31,
   "metadata": {
    "colab": {
     "base_uri": "https://localhost:8080/",
     "height": 71
    },
    "colab_type": "code",
    "id": "ERv24sxM7iCu",
    "outputId": "c4a337a0-1ff1-4cef-9fe3-da32ee9061ba"
   },
   "outputs": [
    {
     "name": "stderr",
     "output_type": "stream",
     "text": [
      "/usr/local/lib/python3.6/dist-packages/tensorflow/python/framework/indexed_slices.py:432: UserWarning: Converting sparse IndexedSlices to a dense Tensor of unknown shape. This may consume a large amount of memory.\n",
      "  \"Converting sparse IndexedSlices to a dense Tensor of unknown shape. \"\n"
     ]
    }
   ],
   "source": [
    "historys = model.fit(x_train_dict, y_train, \n",
    "                    batch_size=256, \n",
    "                    epochs=50, \n",
    "                    verbose=0, # =1 代表进度条\n",
    "                    validation_split=0.2 # 验证集拆分比例\n",
    "                   )"
   ]
  },
  {
   "cell_type": "code",
   "execution_count": 32,
   "metadata": {
    "colab": {},
    "colab_type": "code",
    "id": "-9Rr1ZeM7iCz"
   },
   "outputs": [],
   "source": [
    "pred = model.predict(x_test_dict, batch_size=256)"
   ]
  },
  {
   "cell_type": "code",
   "execution_count": 33,
   "metadata": {
    "colab": {
     "base_uri": "https://localhost:8080/",
     "height": 34
    },
    "colab_type": "code",
    "id": "NBS4SfGC7iC1",
    "outputId": "62951138-b2fb-40fa-8091-0791c681c37a"
   },
   "outputs": [
    {
     "data": {
      "text/plain": [
       "1.080217266408323"
      ]
     },
     "execution_count": 33,
     "metadata": {
      "tags": []
     },
     "output_type": "execute_result"
    }
   ],
   "source": [
    "mse = mean_squared_error(y_test, pred)\n",
    "mse"
   ]
  },
  {
   "cell_type": "code",
   "execution_count": 34,
   "metadata": {
    "colab": {
     "base_uri": "https://localhost:8080/",
     "height": 34
    },
    "colab_type": "code",
    "id": "RWfelLi57iC3",
    "outputId": "38f738cc-9c52-4f38-ca96-7b0c49157ef7"
   },
   "outputs": [
    {
     "data": {
      "text/plain": [
       "1.0393350116340365"
      ]
     },
     "execution_count": 34,
     "metadata": {
      "tags": []
     },
     "output_type": "execute_result"
    }
   ],
   "source": [
    "rmse = mse ** 0.5\n",
    "rmse"
   ]
  },
  {
   "cell_type": "markdown",
   "metadata": {
    "colab_type": "text",
    "id": "6bx5biof7iC6"
   },
   "source": [
    "# 2 movielens数据集"
   ]
  },
  {
   "cell_type": "markdown",
   "metadata": {
    "colab_type": "text",
    "id": "4OhqhtPn7iC7"
   },
   "source": [
    "## 2.1 读入数据"
   ]
  },
  {
   "cell_type": "code",
   "execution_count": 35,
   "metadata": {
    "colab": {},
    "colab_type": "code",
    "id": "lY0jflp-7iC7"
   },
   "outputs": [],
   "source": [
    "datas = pd.read_csv('ratings.csv')"
   ]
  },
  {
   "cell_type": "code",
   "execution_count": 36,
   "metadata": {
    "colab": {
     "base_uri": "https://localhost:8080/",
     "height": 419
    },
    "colab_type": "code",
    "id": "h5xOkL7_7iDA",
    "outputId": "76b809a3-21ed-437a-9aae-104b4ed2e5a0"
   },
   "outputs": [
    {
     "data": {
      "text/html": [
       "<div>\n",
       "<style scoped>\n",
       "    .dataframe tbody tr th:only-of-type {\n",
       "        vertical-align: middle;\n",
       "    }\n",
       "\n",
       "    .dataframe tbody tr th {\n",
       "        vertical-align: top;\n",
       "    }\n",
       "\n",
       "    .dataframe thead th {\n",
       "        text-align: right;\n",
       "    }\n",
       "</style>\n",
       "<table border=\"1\" class=\"dataframe\">\n",
       "  <thead>\n",
       "    <tr style=\"text-align: right;\">\n",
       "      <th></th>\n",
       "      <th>userId</th>\n",
       "      <th>movieId</th>\n",
       "      <th>rating</th>\n",
       "      <th>timestamp</th>\n",
       "    </tr>\n",
       "  </thead>\n",
       "  <tbody>\n",
       "    <tr>\n",
       "      <th>0</th>\n",
       "      <td>1</td>\n",
       "      <td>2</td>\n",
       "      <td>3.5</td>\n",
       "      <td>1112486027</td>\n",
       "    </tr>\n",
       "    <tr>\n",
       "      <th>1</th>\n",
       "      <td>1</td>\n",
       "      <td>29</td>\n",
       "      <td>3.5</td>\n",
       "      <td>1112484676</td>\n",
       "    </tr>\n",
       "    <tr>\n",
       "      <th>2</th>\n",
       "      <td>1</td>\n",
       "      <td>32</td>\n",
       "      <td>3.5</td>\n",
       "      <td>1112484819</td>\n",
       "    </tr>\n",
       "    <tr>\n",
       "      <th>3</th>\n",
       "      <td>1</td>\n",
       "      <td>47</td>\n",
       "      <td>3.5</td>\n",
       "      <td>1112484727</td>\n",
       "    </tr>\n",
       "    <tr>\n",
       "      <th>4</th>\n",
       "      <td>1</td>\n",
       "      <td>50</td>\n",
       "      <td>3.5</td>\n",
       "      <td>1112484580</td>\n",
       "    </tr>\n",
       "    <tr>\n",
       "      <th>...</th>\n",
       "      <td>...</td>\n",
       "      <td>...</td>\n",
       "      <td>...</td>\n",
       "      <td>...</td>\n",
       "    </tr>\n",
       "    <tr>\n",
       "      <th>1048570</th>\n",
       "      <td>7120</td>\n",
       "      <td>168</td>\n",
       "      <td>5.0</td>\n",
       "      <td>1175543061</td>\n",
       "    </tr>\n",
       "    <tr>\n",
       "      <th>1048571</th>\n",
       "      <td>7120</td>\n",
       "      <td>253</td>\n",
       "      <td>4.0</td>\n",
       "      <td>1175542225</td>\n",
       "    </tr>\n",
       "    <tr>\n",
       "      <th>1048572</th>\n",
       "      <td>7120</td>\n",
       "      <td>260</td>\n",
       "      <td>5.0</td>\n",
       "      <td>1175542035</td>\n",
       "    </tr>\n",
       "    <tr>\n",
       "      <th>1048573</th>\n",
       "      <td>7120</td>\n",
       "      <td>261</td>\n",
       "      <td>4.0</td>\n",
       "      <td>1175543376</td>\n",
       "    </tr>\n",
       "    <tr>\n",
       "      <th>1048574</th>\n",
       "      <td>7120</td>\n",
       "      <td>266</td>\n",
       "      <td>3.5</td>\n",
       "      <td>1175542454</td>\n",
       "    </tr>\n",
       "  </tbody>\n",
       "</table>\n",
       "<p>1048575 rows × 4 columns</p>\n",
       "</div>"
      ],
      "text/plain": [
       "         userId  movieId  rating   timestamp\n",
       "0             1        2     3.5  1112486027\n",
       "1             1       29     3.5  1112484676\n",
       "2             1       32     3.5  1112484819\n",
       "3             1       47     3.5  1112484727\n",
       "4             1       50     3.5  1112484580\n",
       "...         ...      ...     ...         ...\n",
       "1048570    7120      168     5.0  1175543061\n",
       "1048571    7120      253     4.0  1175542225\n",
       "1048572    7120      260     5.0  1175542035\n",
       "1048573    7120      261     4.0  1175543376\n",
       "1048574    7120      266     3.5  1175542454\n",
       "\n",
       "[1048575 rows x 4 columns]"
      ]
     },
     "execution_count": 36,
     "metadata": {
      "tags": []
     },
     "output_type": "execute_result"
    }
   ],
   "source": [
    "datas"
   ]
  },
  {
   "cell_type": "markdown",
   "metadata": {
    "colab_type": "text",
    "id": "2dEwArAI7iDE"
   },
   "source": [
    "## 2.2 预处理"
   ]
  },
  {
   "cell_type": "markdown",
   "metadata": {
    "colab_type": "text",
    "id": "_jBy4tB97iDE"
   },
   "source": [
    "### 2.2.1 标签数值化"
   ]
  },
  {
   "cell_type": "code",
   "execution_count": 37,
   "metadata": {
    "colab": {},
    "colab_type": "code",
    "id": "o7lWBPRU7iDF"
   },
   "outputs": [],
   "source": [
    "sparse_features = ['userId', 'movieId', 'timestamp']\n",
    "target = ['rating']"
   ]
  },
  {
   "cell_type": "code",
   "execution_count": 38,
   "metadata": {
    "colab": {},
    "colab_type": "code",
    "id": "KhtjKF7R7iDH"
   },
   "outputs": [],
   "source": [
    "for f in  sparse_features:\n",
    "    transfor = LabelEncoder()\n",
    "    datas[f] = transfor.fit_transform(datas[f])"
   ]
  },
  {
   "cell_type": "code",
   "execution_count": 39,
   "metadata": {
    "colab": {
     "base_uri": "https://localhost:8080/",
     "height": 111
    },
    "colab_type": "code",
    "id": "zQYImjO07iDK",
    "outputId": "246fab0f-d251-47ab-b6dd-3035d97cdc64"
   },
   "outputs": [
    {
     "data": {
      "text/html": [
       "<div>\n",
       "<style scoped>\n",
       "    .dataframe tbody tr th:only-of-type {\n",
       "        vertical-align: middle;\n",
       "    }\n",
       "\n",
       "    .dataframe tbody tr th {\n",
       "        vertical-align: top;\n",
       "    }\n",
       "\n",
       "    .dataframe thead th {\n",
       "        text-align: right;\n",
       "    }\n",
       "</style>\n",
       "<table border=\"1\" class=\"dataframe\">\n",
       "  <thead>\n",
       "    <tr style=\"text-align: right;\">\n",
       "      <th></th>\n",
       "      <th>userId</th>\n",
       "      <th>movieId</th>\n",
       "      <th>rating</th>\n",
       "      <th>timestamp</th>\n",
       "    </tr>\n",
       "  </thead>\n",
       "  <tbody>\n",
       "    <tr>\n",
       "      <th>0</th>\n",
       "      <td>0</td>\n",
       "      <td>1</td>\n",
       "      <td>3.5</td>\n",
       "      <td>340880</td>\n",
       "    </tr>\n",
       "    <tr>\n",
       "      <th>1</th>\n",
       "      <td>0</td>\n",
       "      <td>28</td>\n",
       "      <td>3.5</td>\n",
       "      <td>340785</td>\n",
       "    </tr>\n",
       "  </tbody>\n",
       "</table>\n",
       "</div>"
      ],
      "text/plain": [
       "   userId  movieId  rating  timestamp\n",
       "0       0        1     3.5     340880\n",
       "1       0       28     3.5     340785"
      ]
     },
     "execution_count": 39,
     "metadata": {
      "tags": []
     },
     "output_type": "execute_result"
    }
   ],
   "source": [
    "datas.head(2)"
   ]
  },
  {
   "cell_type": "markdown",
   "metadata": {
    "colab_type": "text",
    "id": "XfNiTHNq7iDM"
   },
   "source": [
    "### 2.2.2生成词向量"
   ]
  },
  {
   "cell_type": "code",
   "execution_count": 40,
   "metadata": {
    "colab": {},
    "colab_type": "code",
    "id": "g2U4noee7iDN"
   },
   "outputs": [],
   "source": [
    "fixlen_feature_columns = [SparseFeat(feat, vocabulary_size=datas[feat].nunique()) for feat in sparse_features]"
   ]
  },
  {
   "cell_type": "code",
   "execution_count": 41,
   "metadata": {
    "colab": {},
    "colab_type": "code",
    "id": "B5DKpqyN7iDT"
   },
   "outputs": [],
   "source": [
    "dnn_feature_columns = fixlen_feature_columns\n",
    "linear_feature_columns = fixlen_feature_columns\n",
    "feature_names = get_feature_names(dnn_feature_columns + linear_feature_columns)"
   ]
  },
  {
   "cell_type": "code",
   "execution_count": 42,
   "metadata": {
    "colab": {
     "base_uri": "https://localhost:8080/",
     "height": 34
    },
    "colab_type": "code",
    "id": "irU3nIAM7iDU",
    "outputId": "0be146d4-0edd-499e-864f-4b400c8e820e"
   },
   "outputs": [
    {
     "data": {
      "text/plain": [
       "['userId', 'movieId', 'timestamp']"
      ]
     },
     "execution_count": 42,
     "metadata": {
      "tags": []
     },
     "output_type": "execute_result"
    }
   ],
   "source": [
    "feature_names"
   ]
  },
  {
   "cell_type": "markdown",
   "metadata": {
    "colab_type": "text",
    "id": "_hA6emS87iDW"
   },
   "source": [
    "## 2.3 拆分数据集并为模型生成输入数据"
   ]
  },
  {
   "cell_type": "code",
   "execution_count": 43,
   "metadata": {
    "colab": {},
    "colab_type": "code",
    "id": "BZM3BXsA7iDW"
   },
   "outputs": [],
   "source": [
    "x_train, x_test, y_train, y_test = train_test_split(datas[feature_names], \n",
    "                                                    datas[target], \n",
    "                                                    test_size=0.2, \n",
    "                                                    random_state=30)"
   ]
  },
  {
   "cell_type": "code",
   "execution_count": 44,
   "metadata": {
    "colab": {
     "base_uri": "https://localhost:8080/",
     "height": 34
    },
    "colab_type": "code",
    "id": "SpHdDvsu7iDa",
    "outputId": "67ea5c0e-30dd-41e8-c8bf-eafbdf94846f"
   },
   "outputs": [
    {
     "data": {
      "text/plain": [
       "((838860, 3), (838860, 1))"
      ]
     },
     "execution_count": 44,
     "metadata": {
      "tags": []
     },
     "output_type": "execute_result"
    }
   ],
   "source": [
    "# 特征和目标值均为DataFrame\n",
    "x_train.shape, y_train.shape"
   ]
  },
  {
   "cell_type": "code",
   "execution_count": 45,
   "metadata": {
    "colab": {},
    "colab_type": "code",
    "id": "w5lVMOp67iDj"
   },
   "outputs": [],
   "source": [
    "train_model_input = {name:x_train[name].values for name in feature_names}\n",
    "test_model_input = {name:x_test[name].values for name in feature_names}"
   ]
  },
  {
   "cell_type": "code",
   "execution_count": 46,
   "metadata": {
    "colab": {
     "base_uri": "https://localhost:8080/",
     "height": 68
    },
    "colab_type": "code",
    "id": "W2v4ZzoH7iDm",
    "outputId": "8c0b371e-8cb3-4a7b-c776-72d5f837aa34"
   },
   "outputs": [
    {
     "data": {
      "text/plain": [
       "{'movieId': array([  46, 2646, 6917, ..., 1861, 1076, 1286]),\n",
       " 'timestamp': array([ 47112,  90860, 737376, ...,  87251, 109057, 679117]),\n",
       " 'userId': array([2719,  677, 3283, ..., 3853, 6649, 2932])}"
      ]
     },
     "execution_count": 46,
     "metadata": {
      "tags": []
     },
     "output_type": "execute_result"
    }
   ],
   "source": [
    "train_model_input"
   ]
  },
  {
   "cell_type": "markdown",
   "metadata": {
    "colab_type": "text",
    "id": "19r1w-hQ7iDo"
   },
   "source": [
    "## 2.4 用DeepFM建模"
   ]
  },
  {
   "cell_type": "code",
   "execution_count": 47,
   "metadata": {
    "colab": {},
    "colab_type": "code",
    "id": "zDrt7YEa7iDo"
   },
   "outputs": [],
   "source": [
    "model = DeepFM(linear_feature_columns, \n",
    "               dnn_feature_columns,\n",
    "               task='regression'\n",
    "              )"
   ]
  },
  {
   "cell_type": "code",
   "execution_count": 48,
   "metadata": {
    "colab": {},
    "colab_type": "code",
    "id": "x-mPk7Xk7iDv"
   },
   "outputs": [],
   "source": [
    "model.compile(optimizer='adam', loss='mse', metrics=['mse'])"
   ]
  },
  {
   "cell_type": "code",
   "execution_count": 50,
   "metadata": {
    "colab": {
     "base_uri": "https://localhost:8080/",
     "height": 51
    },
    "colab_type": "code",
    "id": "E3LxkZtH7iDw",
    "outputId": "5ba64aef-9e5d-4482-b054-1a446b28a170"
   },
   "outputs": [
    {
     "name": "stdout",
     "output_type": "stream",
     "text": [
      "CPU times: user 18min 25s, sys: 33.5 s, total: 18min 59s\n",
      "Wall time: 11min 17s\n"
     ]
    }
   ],
   "source": [
    "%%time\n",
    "history = model.fit(train_model_input, \n",
    "                    y_train.values, \n",
    "                    batch_size=256, \n",
    "                    epochs=10, \n",
    "                    verbose=0,\n",
    "                    validation_split=0.2)"
   ]
  },
  {
   "cell_type": "markdown",
   "metadata": {
    "colab_type": "text",
    "id": "BXfyx1UO7iDz"
   },
   "source": [
    "## 2.5 预测及评估"
   ]
  },
  {
   "cell_type": "code",
   "execution_count": 51,
   "metadata": {
    "colab": {},
    "colab_type": "code",
    "id": "Sp6aIwKr7iDz"
   },
   "outputs": [],
   "source": [
    "preds = model.predict(test_model_input, batch_size=256)"
   ]
  },
  {
   "cell_type": "code",
   "execution_count": 53,
   "metadata": {
    "colab": {
     "base_uri": "https://localhost:8080/",
     "height": 34
    },
    "colab_type": "code",
    "id": "g7YnGSMM7iD1",
    "outputId": "936b8222-0356-4576-de6c-0d408da87d93"
   },
   "outputs": [
    {
     "data": {
      "text/plain": [
       "0.8357133121930652"
      ]
     },
     "execution_count": 53,
     "metadata": {
      "tags": []
     },
     "output_type": "execute_result"
    }
   ],
   "source": [
    "mse = mean_squared_error(y_test.values, preds)\n",
    "mse"
   ]
  },
  {
   "cell_type": "code",
   "execution_count": 55,
   "metadata": {
    "colab": {
     "base_uri": "https://localhost:8080/",
     "height": 34
    },
    "colab_type": "code",
    "id": "H6SUzOTR7iD3",
    "outputId": "09654a70-cbbf-4226-ce30-545f6d4bc2c6"
   },
   "outputs": [
    {
     "data": {
      "text/plain": [
       "0.9141735678704921"
      ]
     },
     "execution_count": 55,
     "metadata": {
      "tags": []
     },
     "output_type": "execute_result"
    }
   ],
   "source": [
    "rmse = mse ** 0.5\n",
    "rmse"
   ]
  },
  {
   "cell_type": "markdown",
   "metadata": {
    "colab": {},
    "colab_type": "code",
    "id": "2KVPLYrSCNUf"
   },
   "source": [
    "# 3 总结："
   ]
  },
  {
   "cell_type": "markdown",
   "metadata": {},
   "source": [
    "1. DeepFM的模型的方法及参数和TensorFlow很相似；\n",
    "2. 由于DeepFM的神经网络部分是基于TensorFlow，所以送入模型的y必须是二维的；\n",
    "3. 与Action1的用libFM训练的FM模型相比，DeepFM的RMSE更小些（libFM RMSE:1.344，DeepFM RMSE:0.914）。"
   ]
  },
  {
   "cell_type": "code",
   "execution_count": null,
   "metadata": {},
   "outputs": [],
   "source": []
  }
 ],
 "metadata": {
  "accelerator": "GPU",
  "colab": {
   "collapsed_sections": [],
   "name": "HX04_Lesson05_Action2_DeepFM.ipynb",
   "provenance": []
  },
  "kernelspec": {
   "display_name": "Python [conda env:envtensorflow] *",
   "language": "python",
   "name": "conda-env-envtensorflow-py"
  },
  "language_info": {
   "codemirror_mode": {
    "name": "ipython",
    "version": 3
   },
   "file_extension": ".py",
   "mimetype": "text/x-python",
   "name": "python",
   "nbconvert_exporter": "python",
   "pygments_lexer": "ipython3",
   "version": "3.7.7"
  },
  "toc": {
   "base_numbering": 1,
   "nav_menu": {},
   "number_sections": false,
   "sideBar": true,
   "skip_h1_title": false,
   "title_cell": "Table of Contents",
   "title_sidebar": "Contents",
   "toc_cell": true,
   "toc_position": {
    "height": "calc(100% - 180px)",
    "left": "10px",
    "top": "150px",
    "width": "288px"
   },
   "toc_section_display": true,
   "toc_window_display": true
  }
 },
 "nbformat": 4,
 "nbformat_minor": 1
}

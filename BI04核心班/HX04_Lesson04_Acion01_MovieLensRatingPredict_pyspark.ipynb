{
 "cells": [
  {
   "cell_type": "markdown",
   "metadata": {
    "toc": true
   },
   "source": [
    "<h1>Table of Contents<span class=\"tocSkip\"></span></h1>\n",
    "<div class=\"toc\"><ul class=\"toc-item\"><li><span><a href=\"#1.-pandas加载数据\" data-toc-modified-id=\"1.-pandas加载数据-1\">1. pandas加载数据</a></span><ul class=\"toc-item\"><li><span><a href=\"#1.1-熟悉数据集\" data-toc-modified-id=\"1.1-熟悉数据集-1.1\">1.1 熟悉数据集</a></span></li><li><span><a href=\"#1.2-sklearn拆分数据集\" data-toc-modified-id=\"1.2-sklearn拆分数据集-1.2\">1.2 sklearn拆分数据集</a></span></li><li><span><a href=\"#1.3-pandas-df转为pyspark-df\" data-toc-modified-id=\"1.3-pandas-df转为pyspark-df-1.3\">1.3 pandas df转为pyspark df</a></span><ul class=\"toc-item\"><li><span><a href=\"#1.3.1-熟悉sql.df的属性和方法\" data-toc-modified-id=\"1.3.1-熟悉sql.df的属性和方法-1.3.1\">1.3.1 熟悉sql.df的属性和方法</a></span></li></ul></li></ul></li><li><span><a href=\"#2-构建ALS模型\" data-toc-modified-id=\"2-构建ALS模型-2\">2 构建ALS模型</a></span></li><li><span><a href=\"#3-为用户推荐评分Top-5的电影\" data-toc-modified-id=\"3-为用户推荐评分Top-5的电影-3\">3 为用户推荐评分Top-5的电影</a></span><ul class=\"toc-item\"><li><span><a href=\"#3.1-生成为所有训练集用户推荐的结果\" data-toc-modified-id=\"3.1-生成为所有训练集用户推荐的结果-3.1\">3.1 生成为所有训练集用户推荐的结果</a></span></li><li><span><a href=\"#3.2-为指定的用户和电影预测评分\" data-toc-modified-id=\"3.2-为指定的用户和电影预测评分-3.2\">3.2 为指定的用户和电影预测评分</a></span></li></ul></li><li><span><a href=\"#4评估模型\" data-toc-modified-id=\"4评估模型-4\">4评估模型</a></span></li><li><span><a href=\"#5-ALS参数不同取值，得到的均方根误差值汇总表如下：\" data-toc-modified-id=\"5-ALS参数不同取值，得到的均方根误差值汇总表如下：-5\">5 ALS参数不同取值，得到的均方根误差值汇总表如下：</a></span></li><li><span><a href=\"#6-总结：\" data-toc-modified-id=\"6-总结：-6\">6 总结：</a></span></li></ul></div>"
   ]
  },
  {
   "cell_type": "markdown",
   "metadata": {},
   "source": [
    "- Action01项目要求：\n",
    "    - 对MovieLens数据集进行评分预测\n",
    "    - 工具：可以使用Surprise或者其他\n",
    "    - 说明使用的模型，及简要原理\n",
    "    - 我们需要补全评分矩阵，然后对指定用户，比如userID为1-5进行预测\n"
   ]
  },
  {
   "cell_type": "markdown",
   "metadata": {},
   "source": [
    "jupyter中使用pyspark，需要先通过findspark运行。"
   ]
  },
  {
   "cell_type": "code",
   "execution_count": 1,
   "metadata": {},
   "outputs": [
    {
     "data": {
      "text/plain": [
       "'1.4.2'"
      ]
     },
     "execution_count": 1,
     "metadata": {},
     "output_type": "execute_result"
    }
   ],
   "source": [
    "import findspark\n",
    "findspark.__version__"
   ]
  },
  {
   "cell_type": "code",
   "execution_count": 2,
   "metadata": {},
   "outputs": [],
   "source": [
    "# jupyter连接pyspark\n",
    "findspark.init()"
   ]
  },
  {
   "cell_type": "code",
   "execution_count": 3,
   "metadata": {},
   "outputs": [],
   "source": [
    "import pyspark"
   ]
  },
  {
   "cell_type": "code",
   "execution_count": 4,
   "metadata": {
    "scrolled": true
   },
   "outputs": [
    {
     "data": {
      "text/plain": [
       "'3.0.1'"
      ]
     },
     "execution_count": 4,
     "metadata": {},
     "output_type": "execute_result"
    }
   ],
   "source": [
    "pyspark.__version__"
   ]
  },
  {
   "cell_type": "code",
   "execution_count": 5,
   "metadata": {},
   "outputs": [],
   "source": [
    "import pandas as pd\n",
    "from pyspark import SparkContext\n",
    "from pyspark.sql import SQLContext\n",
    "from pyspark.ml.recommendation import ALS\n",
    "from pyspark.ml.evaluation import RegressionEvaluator # 回归器评估"
   ]
  },
  {
   "cell_type": "code",
   "execution_count": 6,
   "metadata": {},
   "outputs": [],
   "source": [
    "from pyspark.sql.types import * # 导入它的目的不清楚"
   ]
  },
  {
   "cell_type": "code",
   "execution_count": 7,
   "metadata": {},
   "outputs": [],
   "source": [
    "from sklearn.model_selection import train_test_split # 拆分数据集"
   ]
  },
  {
   "cell_type": "markdown",
   "metadata": {},
   "source": [
    "# 1. pandas加载数据"
   ]
  },
  {
   "cell_type": "code",
   "execution_count": 8,
   "metadata": {},
   "outputs": [],
   "source": [
    "pd.set_option('display.float_format',  lambda x: '%.4f' % x)"
   ]
  },
  {
   "cell_type": "code",
   "execution_count": 9,
   "metadata": {},
   "outputs": [
    {
     "data": {
      "text/html": [
       "<div>\n",
       "<style scoped>\n",
       "    .dataframe tbody tr th:only-of-type {\n",
       "        vertical-align: middle;\n",
       "    }\n",
       "\n",
       "    .dataframe tbody tr th {\n",
       "        vertical-align: top;\n",
       "    }\n",
       "\n",
       "    .dataframe thead th {\n",
       "        text-align: right;\n",
       "    }\n",
       "</style>\n",
       "<table border=\"1\" class=\"dataframe\">\n",
       "  <thead>\n",
       "    <tr style=\"text-align: right;\">\n",
       "      <th></th>\n",
       "      <th>userId</th>\n",
       "      <th>movieId</th>\n",
       "      <th>rating</th>\n",
       "    </tr>\n",
       "  </thead>\n",
       "  <tbody>\n",
       "    <tr>\n",
       "      <th>0</th>\n",
       "      <td>1</td>\n",
       "      <td>2</td>\n",
       "      <td>3.5000</td>\n",
       "    </tr>\n",
       "    <tr>\n",
       "      <th>1</th>\n",
       "      <td>1</td>\n",
       "      <td>29</td>\n",
       "      <td>3.5000</td>\n",
       "    </tr>\n",
       "  </tbody>\n",
       "</table>\n",
       "</div>"
      ],
      "text/plain": [
       "   userId  movieId  rating\n",
       "0       1        2  3.5000\n",
       "1       1       29  3.5000"
      ]
     },
     "execution_count": 9,
     "metadata": {},
     "output_type": "execute_result"
    }
   ],
   "source": [
    "# 用pandas读取\n",
    "df = pd.read_csv('ratings.csv', \n",
    "                 usecols=['userId', 'movieId','rating'])\n",
    "df.head(2)"
   ]
  },
  {
   "cell_type": "markdown",
   "metadata": {},
   "source": [
    "## 1.1 熟悉数据集"
   ]
  },
  {
   "cell_type": "code",
   "execution_count": 10,
   "metadata": {
    "scrolled": true
   },
   "outputs": [
    {
     "data": {
      "text/html": [
       "<div>\n",
       "<style scoped>\n",
       "    .dataframe tbody tr th:only-of-type {\n",
       "        vertical-align: middle;\n",
       "    }\n",
       "\n",
       "    .dataframe tbody tr th {\n",
       "        vertical-align: top;\n",
       "    }\n",
       "\n",
       "    .dataframe thead th {\n",
       "        text-align: right;\n",
       "    }\n",
       "</style>\n",
       "<table border=\"1\" class=\"dataframe\">\n",
       "  <thead>\n",
       "    <tr style=\"text-align: right;\">\n",
       "      <th></th>\n",
       "      <th>userId</th>\n",
       "      <th>movieId</th>\n",
       "      <th>rating</th>\n",
       "    </tr>\n",
       "  </thead>\n",
       "  <tbody>\n",
       "    <tr>\n",
       "      <th>count</th>\n",
       "      <td>1048575.0000</td>\n",
       "      <td>1048575.0000</td>\n",
       "      <td>1048575.0000</td>\n",
       "    </tr>\n",
       "    <tr>\n",
       "      <th>mean</th>\n",
       "      <td>3527.0861</td>\n",
       "      <td>8648.9883</td>\n",
       "      <td>3.5293</td>\n",
       "    </tr>\n",
       "    <tr>\n",
       "      <th>std</th>\n",
       "      <td>2018.4244</td>\n",
       "      <td>19100.1439</td>\n",
       "      <td>1.0519</td>\n",
       "    </tr>\n",
       "    <tr>\n",
       "      <th>min</th>\n",
       "      <td>1.0000</td>\n",
       "      <td>1.0000</td>\n",
       "      <td>0.5000</td>\n",
       "    </tr>\n",
       "    <tr>\n",
       "      <th>25%</th>\n",
       "      <td>1813.0000</td>\n",
       "      <td>903.0000</td>\n",
       "      <td>3.0000</td>\n",
       "    </tr>\n",
       "    <tr>\n",
       "      <th>50%</th>\n",
       "      <td>3540.0000</td>\n",
       "      <td>2143.0000</td>\n",
       "      <td>4.0000</td>\n",
       "    </tr>\n",
       "    <tr>\n",
       "      <th>75%</th>\n",
       "      <td>5233.0000</td>\n",
       "      <td>4641.0000</td>\n",
       "      <td>4.0000</td>\n",
       "    </tr>\n",
       "    <tr>\n",
       "      <th>max</th>\n",
       "      <td>7120.0000</td>\n",
       "      <td>130642.0000</td>\n",
       "      <td>5.0000</td>\n",
       "    </tr>\n",
       "  </tbody>\n",
       "</table>\n",
       "</div>"
      ],
      "text/plain": [
       "            userId      movieId       rating\n",
       "count 1048575.0000 1048575.0000 1048575.0000\n",
       "mean     3527.0861    8648.9883       3.5293\n",
       "std      2018.4244   19100.1439       1.0519\n",
       "min         1.0000       1.0000       0.5000\n",
       "25%      1813.0000     903.0000       3.0000\n",
       "50%      3540.0000    2143.0000       4.0000\n",
       "75%      5233.0000    4641.0000       4.0000\n",
       "max      7120.0000  130642.0000       5.0000"
      ]
     },
     "execution_count": 10,
     "metadata": {},
     "output_type": "execute_result"
    }
   ],
   "source": [
    "df.describe()"
   ]
  },
  {
   "cell_type": "markdown",
   "metadata": {},
   "source": [
    "有1048575条记录，评分范围为`[0.5, 5.0]`。"
   ]
  },
  {
   "cell_type": "code",
   "execution_count": 11,
   "metadata": {},
   "outputs": [],
   "source": [
    "userid = df['userId'].unique()\n",
    "movieid = df['movieId'].unique()"
   ]
  },
  {
   "cell_type": "code",
   "execution_count": 12,
   "metadata": {},
   "outputs": [
    {
     "data": {
      "text/plain": [
       "((7120,), (14026,))"
      ]
     },
     "execution_count": 12,
     "metadata": {},
     "output_type": "execute_result"
    }
   ],
   "source": [
    "userid.shape, movieid.shape"
   ]
  },
  {
   "cell_type": "markdown",
   "metadata": {},
   "source": [
    "可知，用户id数为7120个，电影id数为14026。"
   ]
  },
  {
   "cell_type": "code",
   "execution_count": 13,
   "metadata": {},
   "outputs": [],
   "source": [
    "# 统计每部电影共被打分过多少次，默认按value降序\n",
    "temp = df['movieId'].value_counts()"
   ]
  },
  {
   "cell_type": "code",
   "execution_count": 14,
   "metadata": {
    "scrolled": true
   },
   "outputs": [
    {
     "data": {
      "text/plain": [
       "5342      1\n",
       "100226    1\n",
       "42176     1\n",
       "118985    1\n",
       "128510    1\n",
       "         ..\n",
       "67702     1\n",
       "86330     1\n",
       "51894     1\n",
       "116159    1\n",
       "6553      1\n",
       "Name: movieId, Length: 2558, dtype: int64"
      ]
     },
     "execution_count": 14,
     "metadata": {},
     "output_type": "execute_result"
    }
   ],
   "source": [
    "# 只被打过一次分数的电影，共计2558部电影\n",
    "temp[temp == 1]"
   ]
  },
  {
   "cell_type": "code",
   "execution_count": 15,
   "metadata": {},
   "outputs": [],
   "source": [
    "new_df = df.set_index(keys='movieId', drop=False)"
   ]
  },
  {
   "cell_type": "code",
   "execution_count": 16,
   "metadata": {},
   "outputs": [
    {
     "data": {
      "text/html": [
       "<div>\n",
       "<style scoped>\n",
       "    .dataframe tbody tr th:only-of-type {\n",
       "        vertical-align: middle;\n",
       "    }\n",
       "\n",
       "    .dataframe tbody tr th {\n",
       "        vertical-align: top;\n",
       "    }\n",
       "\n",
       "    .dataframe thead th {\n",
       "        text-align: right;\n",
       "    }\n",
       "</style>\n",
       "<table border=\"1\" class=\"dataframe\">\n",
       "  <thead>\n",
       "    <tr style=\"text-align: right;\">\n",
       "      <th></th>\n",
       "      <th>userId</th>\n",
       "      <th>movieId</th>\n",
       "      <th>rating</th>\n",
       "    </tr>\n",
       "    <tr>\n",
       "      <th>movieId</th>\n",
       "      <th></th>\n",
       "      <th></th>\n",
       "      <th></th>\n",
       "    </tr>\n",
       "  </thead>\n",
       "  <tbody>\n",
       "    <tr>\n",
       "      <th>2</th>\n",
       "      <td>1</td>\n",
       "      <td>2</td>\n",
       "      <td>3.5000</td>\n",
       "    </tr>\n",
       "    <tr>\n",
       "      <th>29</th>\n",
       "      <td>1</td>\n",
       "      <td>29</td>\n",
       "      <td>3.5000</td>\n",
       "    </tr>\n",
       "  </tbody>\n",
       "</table>\n",
       "</div>"
      ],
      "text/plain": [
       "         userId  movieId  rating\n",
       "movieId                         \n",
       "2             1        2  3.5000\n",
       "29            1       29  3.5000"
      ]
     },
     "execution_count": 16,
     "metadata": {},
     "output_type": "execute_result"
    }
   ],
   "source": [
    "new_df.head(2)"
   ]
  },
  {
   "cell_type": "code",
   "execution_count": 17,
   "metadata": {},
   "outputs": [],
   "source": [
    "# 按被打分次数由高到低重新提取数据集\n",
    "new_df = new_df.loc[temp.index]"
   ]
  },
  {
   "cell_type": "code",
   "execution_count": 19,
   "metadata": {},
   "outputs": [
    {
     "data": {
      "text/html": [
       "<div>\n",
       "<style scoped>\n",
       "    .dataframe tbody tr th:only-of-type {\n",
       "        vertical-align: middle;\n",
       "    }\n",
       "\n",
       "    .dataframe tbody tr th {\n",
       "        vertical-align: top;\n",
       "    }\n",
       "\n",
       "    .dataframe thead th {\n",
       "        text-align: right;\n",
       "    }\n",
       "</style>\n",
       "<table border=\"1\" class=\"dataframe\">\n",
       "  <thead>\n",
       "    <tr style=\"text-align: right;\">\n",
       "      <th></th>\n",
       "      <th>userId</th>\n",
       "      <th>movieId</th>\n",
       "      <th>rating</th>\n",
       "    </tr>\n",
       "    <tr>\n",
       "      <th>movieId</th>\n",
       "      <th></th>\n",
       "      <th></th>\n",
       "      <th></th>\n",
       "    </tr>\n",
       "  </thead>\n",
       "  <tbody>\n",
       "    <tr>\n",
       "      <th>5342</th>\n",
       "      <td>5843</td>\n",
       "      <td>5342</td>\n",
       "      <td>2.0000</td>\n",
       "    </tr>\n",
       "    <tr>\n",
       "      <th>100226</th>\n",
       "      <td>6738</td>\n",
       "      <td>100226</td>\n",
       "      <td>4.5000</td>\n",
       "    </tr>\n",
       "  </tbody>\n",
       "</table>\n",
       "</div>"
      ],
      "text/plain": [
       "         userId  movieId  rating\n",
       "movieId                         \n",
       "5342       5843     5342  2.0000\n",
       "100226     6738   100226  4.5000"
      ]
     },
     "execution_count": 19,
     "metadata": {},
     "output_type": "execute_result"
    }
   ],
   "source": [
    "# 只被评分过一次的电影\n",
    "singles = new_df.iloc[-2558:]\n",
    "singles.head(2)"
   ]
  },
  {
   "cell_type": "code",
   "execution_count": 20,
   "metadata": {},
   "outputs": [],
   "source": [
    "# 被评分过2次及以上的电影\n",
    "need_spilted = new_df.iloc[:-2558]"
   ]
  },
  {
   "cell_type": "markdown",
   "metadata": {},
   "source": [
    "## 1.2 sklearn拆分数据集 \n",
    "pyspark的`sqldf.randomSplit()`方法拆分数据集时，无法实现分层抽样。为了保证每个userid都可以被拆分到2个数据集中，所用sklearn的train_test_split进行拆分；"
   ]
  },
  {
   "cell_type": "code",
   "execution_count": 21,
   "metadata": {},
   "outputs": [],
   "source": [
    "x_train, x_test, y_train, y_test = train_test_split(need_spilted[['userId', 'movieId']], \n",
    "                                                    need_spilted['rating'],\n",
    "                                                    test_size=0.2, \n",
    "                                                    random_state=30, \n",
    "                                                    stratify=need_spilted['movieId'])"
   ]
  },
  {
   "cell_type": "code",
   "execution_count": 22,
   "metadata": {},
   "outputs": [
    {
     "data": {
      "text/plain": [
       "(pandas.core.frame.DataFrame, pandas.core.series.Series)"
      ]
     },
     "execution_count": 22,
     "metadata": {},
     "output_type": "execute_result"
    }
   ],
   "source": [
    "type(x_train), type(y_train)"
   ]
  },
  {
   "cell_type": "code",
   "execution_count": 23,
   "metadata": {},
   "outputs": [
    {
     "data": {
      "text/plain": [
       "((836813, 3), (209204, 3))"
      ]
     },
     "execution_count": 23,
     "metadata": {},
     "output_type": "execute_result"
    }
   ],
   "source": [
    "# 拼接被拆分的label和特征\n",
    "x_train['rating'] = y_train\n",
    "x_test['rating'] = y_test\n",
    "x_train.shape, x_test.shape"
   ]
  },
  {
   "cell_type": "code",
   "execution_count": 24,
   "metadata": {
    "scrolled": true
   },
   "outputs": [
    {
     "data": {
      "text/plain": [
       "((7120,), (7115,))"
      ]
     },
     "execution_count": 24,
     "metadata": {},
     "output_type": "execute_result"
    }
   ],
   "source": [
    "x_train['userId'].unique().shape, x_test['userId'].unique().shape"
   ]
  },
  {
   "cell_type": "code",
   "execution_count": 25,
   "metadata": {
    "scrolled": true
   },
   "outputs": [
    {
     "data": {
      "text/plain": [
       "((11468,), (10222,))"
      ]
     },
     "execution_count": 25,
     "metadata": {},
     "output_type": "execute_result"
    }
   ],
   "source": [
    "x_train['movieId'].unique().shape, x_test['movieId'].unique().shape"
   ]
  },
  {
   "cell_type": "code",
   "execution_count": 26,
   "metadata": {},
   "outputs": [],
   "source": [
    "# 把被打分过一次的电影拼接进训练集中\n",
    "x_train_ = pd.concat((x_train, singles), axis=0)"
   ]
  },
  {
   "cell_type": "code",
   "execution_count": 27,
   "metadata": {},
   "outputs": [
    {
     "data": {
      "text/plain": [
       "((7120,), (14026,))"
      ]
     },
     "execution_count": 27,
     "metadata": {},
     "output_type": "execute_result"
    }
   ],
   "source": [
    "# 原数据集中用户id数和电影id数\n",
    "userid.shape, movieid.shape"
   ]
  },
  {
   "cell_type": "code",
   "execution_count": 28,
   "metadata": {},
   "outputs": [
    {
     "data": {
      "text/plain": [
       "((7120,), (14026,))"
      ]
     },
     "execution_count": 28,
     "metadata": {},
     "output_type": "execute_result"
    }
   ],
   "source": [
    "x_train_['userId'].unique().shape, x_train_['movieId'].unique().shape"
   ]
  },
  {
   "cell_type": "markdown",
   "metadata": {},
   "source": [
    "拆分后训练集用户id数与总数据集用户id数相同，训练集的电影id与总数据集用户id数相同，说明训练集中已包含所有不同用户id和所有不同电影id。测试集用户id数、电影id数均少于训练集。但训练集中已包含所有用户id和电影id，因此可以确保测试集评估时不再出现空值。"
   ]
  },
  {
   "cell_type": "markdown",
   "metadata": {},
   "source": [
    "## 1.3 pandas df转为pyspark df"
   ]
  },
  {
   "cell_type": "code",
   "execution_count": 29,
   "metadata": {},
   "outputs": [],
   "source": [
    "sc = SparkContext()"
   ]
  },
  {
   "cell_type": "code",
   "execution_count": 30,
   "metadata": {},
   "outputs": [],
   "source": [
    "sql_sc = SQLContext(sc)"
   ]
  },
  {
   "cell_type": "code",
   "execution_count": 31,
   "metadata": {},
   "outputs": [
    {
     "name": "stdout",
     "output_type": "stream",
     "text": [
      "CPU times: user 24.2 s, sys: 234 ms, total: 24.4 s\n",
      "Wall time: 28.3 s\n"
     ]
    }
   ],
   "source": [
    "%%time\n",
    "# 把pandas的DataFrame转为pyspark下的DataFrame\n",
    "spk_df_train = sql_sc.createDataFrame(data=x_train_)\n",
    "spk_df_test = sql_sc.createDataFrame(data=x_test)"
   ]
  },
  {
   "cell_type": "markdown",
   "metadata": {},
   "source": [
    "### 1.3.1 熟悉sql.df的属性和方法"
   ]
  },
  {
   "cell_type": "code",
   "execution_count": 32,
   "metadata": {},
   "outputs": [
    {
     "data": {
      "text/plain": [
       "pyspark.sql.dataframe.DataFrame"
      ]
     },
     "execution_count": 32,
     "metadata": {},
     "output_type": "execute_result"
    }
   ],
   "source": [
    "# 也是DataFrame类型，继承了pandas中部分df的方法\n",
    "type(spk_df_train)"
   ]
  },
  {
   "cell_type": "code",
   "execution_count": 33,
   "metadata": {
    "scrolled": false
   },
   "outputs": [
    {
     "name": "stdout",
     "output_type": "stream",
     "text": [
      "root\n",
      " |-- userId: long (nullable = true)\n",
      " |-- movieId: long (nullable = true)\n",
      " |-- rating: double (nullable = true)\n",
      "\n"
     ]
    }
   ],
   "source": [
    "# 查看数据列信息\n",
    "spk_df_train.printSchema()"
   ]
  },
  {
   "cell_type": "code",
   "execution_count": 34,
   "metadata": {},
   "outputs": [
    {
     "data": {
      "text/plain": [
       "(839371, ['userId', 'movieId', 'rating'])"
      ]
     },
     "execution_count": 34,
     "metadata": {},
     "output_type": "execute_result"
    }
   ],
   "source": [
    "# 查看总行数 和 字段列表\n",
    "spk_df_train.count(), spk_df_train.columns"
   ]
  },
  {
   "cell_type": "code",
   "execution_count": null,
   "metadata": {},
   "outputs": [],
   "source": [
    "# # 将每条记录转成Row对象，以列表形式返回\n",
    "# temp = spark_df_ratings.collect()"
   ]
  },
  {
   "cell_type": "code",
   "execution_count": null,
   "metadata": {
    "scrolled": true
   },
   "outputs": [],
   "source": [
    "# type(temp), type(temp[0]), temp[:5]"
   ]
  },
  {
   "cell_type": "code",
   "execution_count": 35,
   "metadata": {
    "scrolled": true
   },
   "outputs": [
    {
     "name": "stdout",
     "output_type": "stream",
     "text": [
      "+------+-------+------+\n",
      "|userId|movieId|rating|\n",
      "+------+-------+------+\n",
      "|  6921|   6890|   4.5|\n",
      "|  7032|   1645|   2.0|\n",
      "|  6000|    353|   3.0|\n",
      "|  6553|   7926|   4.0|\n",
      "|   208|     29|   5.0|\n",
      "+------+-------+------+\n",
      "only showing top 5 rows\n",
      "\n"
     ]
    }
   ],
   "source": [
    "# 查看训练集前5条记录, 输出结果为sql数据表风格\n",
    "spk_df_train.show(n=5, truncate=True, vertical=False)"
   ]
  },
  {
   "cell_type": "code",
   "execution_count": 36,
   "metadata": {},
   "outputs": [
    {
     "data": {
      "text/plain": [
       "[Row(userId=741, movieId=7617, rating=5.0),\n",
       " Row(userId=3688, movieId=5072, rating=4.5),\n",
       " Row(userId=5198, movieId=1262, rating=4.0),\n",
       " Row(userId=1789, movieId=6537, rating=3.0),\n",
       " Row(userId=6175, movieId=53121, rating=4.0)]"
      ]
     },
     "execution_count": 36,
     "metadata": {},
     "output_type": "execute_result"
    }
   ],
   "source": [
    "# 查看测试集前5条，take方法以列表形式返回Row对象\n",
    "spk_df_test.take(5)"
   ]
  },
  {
   "cell_type": "code",
   "execution_count": 37,
   "metadata": {},
   "outputs": [
    {
     "name": "stdout",
     "output_type": "stream",
     "text": [
      "CPU times: user 3.95 ms, sys: 2.47 ms, total: 6.42 ms\n",
      "Wall time: 382 ms\n"
     ]
    },
    {
     "data": {
      "text/plain": [
       "[Row(userId=1, movieId=2804, rating=3.5),\n",
       " Row(userId=1, movieId=7454, rating=4.0)]"
      ]
     },
     "execution_count": 37,
     "metadata": {},
     "output_type": "execute_result"
    }
   ],
   "source": [
    "%%time\n",
    "# 支持where条件语句查询\n",
    "spk_df_train.where(spk_df_train.userId==1).take(2)"
   ]
  },
  {
   "cell_type": "markdown",
   "metadata": {},
   "source": [
    "# 2 构建ALS模型"
   ]
  },
  {
   "cell_type": "markdown",
   "metadata": {},
   "source": [
    "ALS显示反馈目标函数：\n",
    "$$\\underset{x,y}{min}\\sum _{(u, i)\\varepsilon K}(r_{ui} - x_{u}^{T}y_{i})^2 + \\lambda (\\sum _{u}||x_{u}||_{2}^{2} + \\sum _{i}||y_{i}||_{2}^{2})$$\n",
    "\n",
    "- $r_{ui}$实际评分\n",
    "- $x_{u}^{T}y_{i}$用户向量与物品向量的内积，表示用户u 对物品i 的预测评分\n",
    "- $\\lambda (\\sum _{u}||x_{u}||_{2}^{2} + \\sum _{i}||y_{i}||_{2}^{2})$  L2正则项，保证数值计算稳定性，防止过拟合\n"
   ]
  },
  {
   "cell_type": "markdown",
   "metadata": {},
   "source": [
    "pyspark的API:\n",
    "```\n",
    "pyspark.ml.recommendation.ALS()\n",
    "```\n",
    "- **参数：**\n",
    "    - rank=10, 模型中潜在因子的数量（默认10，一般取10~1000，太小误差大；太大泛化能力差）\n",
    "    - maxIter=10, 要运行的最大迭代次数（ 默认为 10）\n",
    "    - regParam=0.1, 指定 ALS 中的正则化参数（ 默认为 0.1）\n",
    "    - numUserBlocks=10, 用户矩阵将被分区为块以便并行计算的块数（默认为10）\n",
    "    - numItemBlocks=10,  项目矩阵将被分区为块以便并行计算的块数（默认为10)\n",
    "    - implicitPrefs=False, 指定是使用显式反馈ALS变体，还是使用适用于隐式反馈数据的变体；默认值 False，表示使用显式反馈\n",
    "    - alpha=1.0, 适用于 ALS 的隐式反馈变量的参数，其控制偏好观察中的基线置信度（ 默认为 1.0）\n",
    "    - userCol='user', 用户列的字段名称，默认'user'\n",
    "    - itemCol='item', 项目列的字段名称，默认'item'\n",
    "    - seed=None,\n",
    "    - ratingCol='rating', 评分列的字段名称，默认'rating'\n",
    "    - nonnegative=False, 指定是否对最小二乘使用非负约束（ 默认False）\n",
    "    - checkpointInterval=10, 每10次迭代检查一次 \n",
    "    - intermediateStorageLevel='MEMORY_AND_DISK',\n",
    "    - finalStorageLevel='MEMORY_AND_DISK',\n",
    "    - coldStartStrategy='nan',\n",
    "    - blockSize=4096    \n",
    "    "
   ]
  },
  {
   "cell_type": "code",
   "execution_count": 38,
   "metadata": {},
   "outputs": [],
   "source": [
    "# 实例化模型\n",
    "als = ALS(\n",
    "    rank=3,  \n",
    "    maxIter=10,\n",
    "    regParam=0.1,\n",
    "    userCol='userId',\n",
    "    itemCol='movieId',\n",
    "    ratingCol='rating'\n",
    ")"
   ]
  },
  {
   "cell_type": "code",
   "execution_count": 39,
   "metadata": {},
   "outputs": [
    {
     "name": "stdout",
     "output_type": "stream",
     "text": [
      "CPU times: user 30.4 ms, sys: 9.62 ms, total: 40 ms\n",
      "Wall time: 12.2 s\n"
     ]
    }
   ],
   "source": [
    "%%time\n",
    "# 训练模型\n",
    "model = als.fit(spk_df_train)"
   ]
  },
  {
   "cell_type": "markdown",
   "metadata": {},
   "source": [
    "# 3 为用户推荐评分Top-5的电影"
   ]
  },
  {
   "cell_type": "markdown",
   "metadata": {},
   "source": [
    "## 3.1 生成为所有训练集用户推荐的结果"
   ]
  },
  {
   "cell_type": "code",
   "execution_count": 40,
   "metadata": {},
   "outputs": [
    {
     "name": "stdout",
     "output_type": "stream",
     "text": [
      "CPU times: user 1.12 ms, sys: 1.26 ms, total: 2.38 ms\n",
      "Wall time: 444 ms\n"
     ]
    }
   ],
   "source": [
    "%%time\n",
    "# 为所有训练集用户推荐Top-5\n",
    "recommends = model.recommendForAllUsers(numItems=5)"
   ]
  },
  {
   "cell_type": "code",
   "execution_count": 41,
   "metadata": {},
   "outputs": [
    {
     "data": {
      "text/plain": [
       "pyspark.sql.dataframe.DataFrame"
      ]
     },
     "execution_count": 41,
     "metadata": {},
     "output_type": "execute_result"
    }
   ],
   "source": [
    "type(recommends)"
   ]
  },
  {
   "cell_type": "code",
   "execution_count": 42,
   "metadata": {},
   "outputs": [
    {
     "name": "stdout",
     "output_type": "stream",
     "text": [
      "CPU times: user 22.3 ms, sys: 9.53 ms, total: 31.8 ms\n",
      "Wall time: 6.03 s\n"
     ]
    },
    {
     "data": {
      "text/plain": [
       "[Row(userId=100, recommendations=[Row(movieId=95218, rating=5.648101806640625), Row(movieId=40697, rating=5.163963794708252), Row(movieId=4261, rating=5.124624252319336), Row(movieId=82931, rating=5.112427711486816), Row(movieId=95776, rating=5.040829658508301)])]"
      ]
     },
     "execution_count": 42,
     "metadata": {},
     "output_type": "execute_result"
    }
   ],
   "source": [
    "%%time\n",
    "# 查找模型生成的为userID=100推荐的top5电影明细\n",
    "user100 = recommends.where(recommends['userId'] == 100)\n",
    "user100.collect()"
   ]
  },
  {
   "cell_type": "code",
   "execution_count": 48,
   "metadata": {},
   "outputs": [
    {
     "data": {
      "text/plain": [
       "pyspark.sql.dataframe.DataFrame"
      ]
     },
     "execution_count": 48,
     "metadata": {},
     "output_type": "execute_result"
    }
   ],
   "source": [
    "type(user100)"
   ]
  },
  {
   "cell_type": "code",
   "execution_count": 49,
   "metadata": {
    "scrolled": true
   },
   "outputs": [
    {
     "name": "stdout",
     "output_type": "stream",
     "text": [
      "root\n",
      " |-- userId: integer (nullable = false)\n",
      " |-- recommendations: array (nullable = true)\n",
      " |    |-- element: struct (containsNull = true)\n",
      " |    |    |-- movieId: integer (nullable = true)\n",
      " |    |    |-- rating: float (nullable = true)\n",
      "\n"
     ]
    }
   ],
   "source": [
    "user100.printSchema()"
   ]
  },
  {
   "cell_type": "code",
   "execution_count": 43,
   "metadata": {
    "scrolled": true
   },
   "outputs": [
    {
     "name": "stderr",
     "output_type": "stream",
     "text": [
      "/usr/local/anaconda3/envs/envspark/lib/python3.7/site-packages/ipykernel_launcher.py:2: UserWarning: Boolean Series key will be reindexed to match DataFrame index.\n",
      "  \n"
     ]
    },
    {
     "data": {
      "text/html": [
       "<div>\n",
       "<style scoped>\n",
       "    .dataframe tbody tr th:only-of-type {\n",
       "        vertical-align: middle;\n",
       "    }\n",
       "\n",
       "    .dataframe tbody tr th {\n",
       "        vertical-align: top;\n",
       "    }\n",
       "\n",
       "    .dataframe thead th {\n",
       "        text-align: right;\n",
       "    }\n",
       "</style>\n",
       "<table border=\"1\" class=\"dataframe\">\n",
       "  <thead>\n",
       "    <tr style=\"text-align: right;\">\n",
       "      <th></th>\n",
       "      <th>userId</th>\n",
       "      <th>movieId</th>\n",
       "      <th>rating</th>\n",
       "    </tr>\n",
       "  </thead>\n",
       "  <tbody>\n",
       "  </tbody>\n",
       "</table>\n",
       "</div>"
      ],
      "text/plain": [
       "Empty DataFrame\n",
       "Columns: [userId, movieId, rating]\n",
       "Index: []"
      ]
     },
     "execution_count": 43,
     "metadata": {},
     "output_type": "execute_result"
    }
   ],
   "source": [
    "df[df['userId'] == 100][(df['movieId'] == 95218) | \\\n",
    "   (df['movieId'] == 40697) | (df['movieId'] == 4261) | (df['movieId'] ==82931)]"
   ]
  },
  {
   "cell_type": "markdown",
   "metadata": {},
   "source": [
    "查询没结果，说明推荐的top-5电影都是用户以前未评分过的，ALS模型填充了评分矩阵中缺失的评分，使得这些评分能反应用户的喜好程度，从而让我们能利用这个预测评分排名后，选取了top-5部电影给指定用户。\n",
    "\n",
    "---"
   ]
  },
  {
   "cell_type": "markdown",
   "metadata": {},
   "source": [
    "## 3.2 为指定的用户和电影预测评分"
   ]
  },
  {
   "cell_type": "code",
   "execution_count": 44,
   "metadata": {},
   "outputs": [],
   "source": [
    "test = sql_sc.createDataFrame([[100, 95218], \n",
    "                               [100, 40697],\n",
    "                               [100, 4261],\n",
    "                               [100, 82931],\n",
    "                               [100, 95776]], \n",
    "                               ['userId', 'movieId'])"
   ]
  },
  {
   "cell_type": "code",
   "execution_count": 45,
   "metadata": {},
   "outputs": [],
   "source": [
    "# 为指定用户和电影预测评分，按评分排序\n",
    "predictions = sorted(model.transform(test).collect(), \n",
    "                     key=lambda r: r[2], reverse=True)"
   ]
  },
  {
   "cell_type": "code",
   "execution_count": 46,
   "metadata": {
    "scrolled": true
   },
   "outputs": [
    {
     "data": {
      "text/plain": [
       "[Row(userId=100, movieId=95218, prediction=5.648101806640625),\n",
       " Row(userId=100, movieId=40697, prediction=5.163963794708252),\n",
       " Row(userId=100, movieId=4261, prediction=5.124624252319336),\n",
       " Row(userId=100, movieId=82931, prediction=5.112427711486816),\n",
       " Row(userId=100, movieId=95776, prediction=5.040829658508301)]"
      ]
     },
     "execution_count": 46,
     "metadata": {},
     "output_type": "execute_result"
    }
   ],
   "source": [
    "predictions"
   ]
  },
  {
   "cell_type": "markdown",
   "metadata": {},
   "source": [
    "可以看到预测的评分值，与3.1中`recommends=model.recommendForAllUsers()`中的对应用户和电影的评分一致。不同的是，recommends中只保存了每个用户预测评分top5的电影；而`model.transform()`可以为任何指定的用户id和电影id预测其评分。"
   ]
  },
  {
   "cell_type": "markdown",
   "metadata": {},
   "source": [
    "# 4评估模型"
   ]
  },
  {
   "cell_type": "code",
   "execution_count": 53,
   "metadata": {
    "scrolled": true
   },
   "outputs": [
    {
     "data": {
      "text/html": [
       "<div>\n",
       "<style scoped>\n",
       "    .dataframe tbody tr th:only-of-type {\n",
       "        vertical-align: middle;\n",
       "    }\n",
       "\n",
       "    .dataframe tbody tr th {\n",
       "        vertical-align: top;\n",
       "    }\n",
       "\n",
       "    .dataframe thead th {\n",
       "        text-align: right;\n",
       "    }\n",
       "</style>\n",
       "<table border=\"1\" class=\"dataframe\">\n",
       "  <thead>\n",
       "    <tr style=\"text-align: right;\">\n",
       "      <th></th>\n",
       "      <th>userId</th>\n",
       "      <th>movieId</th>\n",
       "      <th>rating</th>\n",
       "    </tr>\n",
       "  </thead>\n",
       "  <tbody>\n",
       "    <tr>\n",
       "      <th>0</th>\n",
       "      <td>1</td>\n",
       "      <td>2</td>\n",
       "      <td>3.5000</td>\n",
       "    </tr>\n",
       "    <tr>\n",
       "      <th>1</th>\n",
       "      <td>1</td>\n",
       "      <td>29</td>\n",
       "      <td>3.5000</td>\n",
       "    </tr>\n",
       "    <tr>\n",
       "      <th>2</th>\n",
       "      <td>1</td>\n",
       "      <td>32</td>\n",
       "      <td>3.5000</td>\n",
       "    </tr>\n",
       "    <tr>\n",
       "      <th>3</th>\n",
       "      <td>1</td>\n",
       "      <td>47</td>\n",
       "      <td>3.5000</td>\n",
       "    </tr>\n",
       "    <tr>\n",
       "      <th>4</th>\n",
       "      <td>1</td>\n",
       "      <td>50</td>\n",
       "      <td>3.5000</td>\n",
       "    </tr>\n",
       "  </tbody>\n",
       "</table>\n",
       "</div>"
      ],
      "text/plain": [
       "   userId  movieId  rating\n",
       "0       1        2  3.5000\n",
       "1       1       29  3.5000\n",
       "2       1       32  3.5000\n",
       "3       1       47  3.5000\n",
       "4       1       50  3.5000"
      ]
     },
     "execution_count": 53,
     "metadata": {},
     "output_type": "execute_result"
    }
   ],
   "source": [
    "df.head()"
   ]
  },
  {
   "cell_type": "code",
   "execution_count": 54,
   "metadata": {},
   "outputs": [
    {
     "data": {
      "text/plain": [
       "[Row(userId=1, movieId=2, rating=3.5, prediction=3.3998942375183105),\n",
       " Row(userId=1, movieId=29, rating=3.5, prediction=3.707843780517578),\n",
       " Row(userId=1, movieId=32, rating=3.5, prediction=3.7725272178649902),\n",
       " Row(userId=1, movieId=47, rating=3.5, prediction=4.022514820098877),\n",
       " Row(userId=1, movieId=50, rating=3.5, prediction=4.220706462860107)]"
      ]
     },
     "execution_count": 54,
     "metadata": {},
     "output_type": "execute_result"
    }
   ],
   "source": [
    "# 取df中前5条数据进行预测, 按movieId升序排序\n",
    "test = sql_sc.createDataFrame(df.iloc[:5])\n",
    "\n",
    "sorted(model.transform(test).collect(), \n",
    "       key=lambda r: r[1], reverse=False)"
   ]
  },
  {
   "cell_type": "markdown",
   "metadata": {},
   "source": [
    "可以看出预测值和实际值之间有出入，引入回归评估器评估预测效果："
   ]
  },
  {
   "cell_type": "code",
   "execution_count": 55,
   "metadata": {},
   "outputs": [],
   "source": [
    "preds = model.transform(spk_df_test)"
   ]
  },
  {
   "cell_type": "code",
   "execution_count": 56,
   "metadata": {},
   "outputs": [
    {
     "data": {
      "text/plain": [
       "['userId', 'movieId', 'rating', 'prediction']"
      ]
     },
     "execution_count": 56,
     "metadata": {},
     "output_type": "execute_result"
    }
   ],
   "source": [
    "preds.columns"
   ]
  },
  {
   "cell_type": "code",
   "execution_count": 57,
   "metadata": {},
   "outputs": [
    {
     "data": {
      "text/plain": [
       "[Row(userId=3439, movieId=148, rating=1.0, prediction=2.7326953411102295),\n",
       " Row(userId=4948, movieId=148, rating=3.0, prediction=2.7196924686431885),\n",
       " Row(userId=1716, movieId=148, rating=2.0, prediction=3.1051182746887207)]"
      ]
     },
     "execution_count": 57,
     "metadata": {},
     "output_type": "execute_result"
    }
   ],
   "source": [
    "preds.take(3)"
   ]
  },
  {
   "cell_type": "code",
   "execution_count": 58,
   "metadata": {},
   "outputs": [
    {
     "name": "stdout",
     "output_type": "stream",
     "text": [
      "root\n",
      " |-- userId: long (nullable = true)\n",
      " |-- movieId: long (nullable = true)\n",
      " |-- rating: double (nullable = true)\n",
      " |-- prediction: float (nullable = false)\n",
      "\n"
     ]
    }
   ],
   "source": [
    "# 查看数据列信息\n",
    "preds.printSchema()"
   ]
  },
  {
   "cell_type": "code",
   "execution_count": 59,
   "metadata": {},
   "outputs": [
    {
     "name": "stdout",
     "output_type": "stream",
     "text": [
      "CPU times: user 32.7 ms, sys: 12.3 ms, total: 45.1 ms\n",
      "Wall time: 14.9 s\n"
     ]
    },
    {
     "data": {
      "text/plain": [
       "209204"
      ]
     },
     "execution_count": 59,
     "metadata": {},
     "output_type": "execute_result"
    }
   ],
   "source": [
    "%%time\n",
    "# 测试集记录数209204，非空值209204，说明出现0条空值记录\n",
    "preds.dropna().count()"
   ]
  },
  {
   "cell_type": "code",
   "execution_count": 60,
   "metadata": {},
   "outputs": [],
   "source": [
    "# 构建回归评估器，评估误差\n",
    "evaluator = RegressionEvaluator(metricName='rmse', \n",
    "                                predictionCol='prediction',\n",
    "                                labelCol='rating')"
   ]
  },
  {
   "cell_type": "code",
   "execution_count": 61,
   "metadata": {},
   "outputs": [
    {
     "name": "stdout",
     "output_type": "stream",
     "text": [
      "CPU times: user 36.1 ms, sys: 12.5 ms, total: 48.7 ms\n",
      "Wall time: 14.4 s\n"
     ]
    }
   ],
   "source": [
    "%%time\n",
    "rms = evaluator.evaluate(preds.dropna())"
   ]
  },
  {
   "cell_type": "code",
   "execution_count": 62,
   "metadata": {},
   "outputs": [
    {
     "data": {
      "text/plain": [
       "'均方根误差值: 0.8366'"
      ]
     },
     "execution_count": 62,
     "metadata": {},
     "output_type": "execute_result"
    }
   ],
   "source": [
    "#  # 0.8395\n",
    "\"均方根误差值: {:.4f}\".format(rms)"
   ]
  },
  {
   "cell_type": "markdown",
   "metadata": {},
   "source": [
    "---\n",
    "# 5 ALS参数不同取值，得到的均方根误差值汇总表如下："
   ]
  },
  {
   "cell_type": "markdown",
   "metadata": {},
   "source": [
    "| 序号 | rank | maxIter | regParam |  rmse  |\n",
    "|:----:|:----:|:-------:|:--------:|:------:|\n",
    "|   1  |   3  |    10   |   0.01   | 0.8528 |\n",
    "|   2  |   3  |    10   |    0.1   | 0.8395 |\n",
    "|   3  |   3  |    15   |    0.1   | 0.8370 |\n",
    "|   4  |   3  |    20   |    0.1   | 0.8376 |\n",
    "|   5  |   3  |    10   |    0.5   | 0.9983 |\n",
    "|   6  |  10  |    10   |    0.5   | 0.9982 |\n",
    "|   7  |  10  |    10   |    0.1   | 0.8239 |\n",
    "|   8  |  20  |    10   |    0.1   | 0.8219 |\n",
    "|   9  |  20  |    20   |    0.1   | 0.8162 |\n",
    "|  10  |  50  |    20   |    0.1   | 0.8153 |\n",
    "|  11  |  3   |    10   |    2     | 2.1745 |\n",
    "|      |      |         |          |        |"
   ]
  },
  {
   "cell_type": "code",
   "execution_count": 63,
   "metadata": {},
   "outputs": [
    {
     "data": {
      "text/plain": [
       "0.16306"
      ]
     },
     "execution_count": 63,
     "metadata": {},
     "output_type": "execute_result"
    }
   ],
   "source": [
    "0.8153 / 5.0"
   ]
  },
  {
   "cell_type": "markdown",
   "metadata": {},
   "source": [
    "# 6 总结："
   ]
  },
  {
   "cell_type": "markdown",
   "metadata": {},
   "source": [
    "- 关于ALS算法：    \n",
    "\n",
    "它通过`userCol`指定的用户列, 和`itemCol`指定的项目列，由`implicitPrefs`指定处理的是显示反馈还是隐式行为的场景，根据`rank`指定的隐特征个数拟合评分矩阵；拟合后再通过`recommendForAllUsers(N)`为所有用户生成评分最高的Top-N的推荐结果，根据指定的用户id即可在生成的结果中查找推荐结果。\n",
    "\n",
    "pyspark进行拟合时，ALS的`rank, maxIter, regParam`三个参数的取值会影响rmse。    \n",
    "\n",
    "当rank太小时，单纯提高迭代次数maxIter很快会过拟合。    \n",
    "\n",
    "汇总表序号2和序号10的结果可以看出，rank、maxIter同时提高取值，rmse会更好的降低；但增大rank和maxIter耗时会增加，rank取值1000的时候，跑了1个多小时仍没跑完。"
   ]
  },
  {
   "cell_type": "markdown",
   "metadata": {},
   "source": [
    "- 其他注意事项：\n",
    "    1. 必须保证训练集中包含所有的用户id和电影id，即：要保证训练集样本覆盖全部用户和电影，如：该数据集中共有7120个不同用户、14026部不同电影，则训练集中必须包含7120个用户和14026部电影下的部分数据；\n",
    "    2. 如果训练集中未覆盖全部用户和电影，则训练集评估时预测值将会出现空值，导致rmse也是空值，影响拟合；\n",
    "    3. 虽然真实数据集中rating的值在`[0.5, 5.0]`范围，而预测评分会出现大于5.0的情况。经过多次尝试，发现当rmse误差值降低后，大于5.0的评分情况会减少，所以猜测是因为误差过大导致（最低rmse占最高真实评分5.0的16.31%）；\n",
    "    4. 预测结果DataFrame的字段prediction数据列信息是: `float (nullable = false)`，当`nullable = false`不代表一定原空值;\n",
    "    5. SQLContext是Spark SQL进行结构化数据处理的入口，它兼具了pandas的DataFrame的大部分方法和SQL语句，实际应用中可以多尝试。"
   ]
  },
  {
   "cell_type": "code",
   "execution_count": null,
   "metadata": {},
   "outputs": [],
   "source": []
  }
 ],
 "metadata": {
  "kernelspec": {
   "display_name": "Python [conda env:envspark]",
   "language": "python",
   "name": "conda-env-envspark-py"
  },
  "language_info": {
   "codemirror_mode": {
    "name": "ipython",
    "version": 3
   },
   "file_extension": ".py",
   "mimetype": "text/x-python",
   "name": "python",
   "nbconvert_exporter": "python",
   "pygments_lexer": "ipython3",
   "version": "3.7.7"
  },
  "toc": {
   "base_numbering": 1,
   "nav_menu": {},
   "number_sections": false,
   "sideBar": true,
   "skip_h1_title": false,
   "title_cell": "Table of Contents",
   "title_sidebar": "Contents",
   "toc_cell": true,
   "toc_position": {
    "height": "calc(100% - 180px)",
    "left": "10px",
    "top": "150px",
    "width": "288px"
   },
   "toc_section_display": true,
   "toc_window_display": true
  }
 },
 "nbformat": 4,
 "nbformat_minor": 4
}

{
 "cells": [
  {
   "cell_type": "markdown",
   "metadata": {
    "toc": true
   },
   "source": [
    "<h1>Table of Contents<span class=\"tocSkip\"></span></h1>\n",
    "<div class=\"toc\"><ul class=\"toc-item\"><li><span><a href=\"#1-读取数据\" data-toc-modified-id=\"1-读取数据-1\">1 读取数据</a></span></li><li><span><a href=\"#2-基于邻域的协同过滤——4种算法对比\" data-toc-modified-id=\"2-基于邻域的协同过滤——4种算法对比-2\">2 基于邻域的协同过滤——4种算法对比</a></span><ul class=\"toc-item\"><li><span><a href=\"#2.1-KNNBasic\" data-toc-modified-id=\"2.1-KNNBasic-2.1\">2.1 KNNBasic</a></span><ul class=\"toc-item\"><li><span><a href=\"#2.1.1-基于用户的协同过滤\" data-toc-modified-id=\"2.1.1-基于用户的协同过滤-2.1.1\">2.1.1 基于用户的协同过滤</a></span></li><li><span><a href=\"#2.1.2-基于商品的协同过滤\" data-toc-modified-id=\"2.1.2-基于商品的协同过滤-2.1.2\">2.1.2 基于商品的协同过滤</a></span></li></ul></li><li><span><a href=\"#2.2-KNNBasicWithMeans\" data-toc-modified-id=\"2.2-KNNBasicWithMeans-2.2\">2.2 KNNBasicWithMeans</a></span><ul class=\"toc-item\"><li><span><a href=\"#2.2.1-基于用户\" data-toc-modified-id=\"2.2.1-基于用户-2.2.1\">2.2.1 基于用户</a></span></li><li><span><a href=\"#2.2.2-基于商品\" data-toc-modified-id=\"2.2.2-基于商品-2.2.2\">2.2.2 基于商品</a></span></li></ul></li><li><span><a href=\"#2.3-KNNWithZScore\" data-toc-modified-id=\"2.3-KNNWithZScore-2.3\">2.3 KNNWithZScore</a></span><ul class=\"toc-item\"><li><span><a href=\"#2.3.1-基于用户\" data-toc-modified-id=\"2.3.1-基于用户-2.3.1\">2.3.1 基于用户</a></span></li><li><span><a href=\"#2.3.2-基于商品\" data-toc-modified-id=\"2.3.2-基于商品-2.3.2\">2.3.2 基于商品</a></span></li></ul></li><li><span><a href=\"#2.4-KNNBaseline\" data-toc-modified-id=\"2.4-KNNBaseline-2.4\">2.4 KNNBaseline</a></span><ul class=\"toc-item\"><li><span><a href=\"#2.4.1-基于用户\" data-toc-modified-id=\"2.4.1-基于用户-2.4.1\">2.4.1 基于用户</a></span></li><li><span><a href=\"#2.4.2-基于商品\" data-toc-modified-id=\"2.4.2-基于商品-2.4.2\">2.4.2 基于商品</a></span></li></ul></li></ul></li><li><span><a href=\"#3-总结：\" data-toc-modified-id=\"3-总结：-3\">3 总结：</a></span></li></ul></div>"
   ]
  },
  {
   "cell_type": "markdown",
   "metadata": {},
   "source": [
    "Action3:     \n",
    "\n",
    "使用基于邻域的协同过滤（KNNBasic, KNNWithMeans, KNNWithZScore, KNNBaseline中的任意一种）     \n",
    "\n",
    "对MovieLens数据集进行协同过滤，采用k折交叉验证(k=3)，输出每次计算的RMSE, MAE"
   ]
  },
  {
   "cell_type": "code",
   "execution_count": 1,
   "metadata": {},
   "outputs": [],
   "source": [
    "import pandas as pd"
   ]
  },
  {
   "cell_type": "code",
   "execution_count": 2,
   "metadata": {},
   "outputs": [],
   "source": [
    "from surprise import accuracy\n",
    "from surprise import Dataset, Reader\n",
    "from surprise.model_selection import KFold\n",
    "from surprise.model_selection.split import train_test_split\n",
    "from surprise import KNNBaseline, KNNWithMeans, KNNWithZScore, KNNBasic"
   ]
  },
  {
   "cell_type": "markdown",
   "metadata": {},
   "source": [
    "# 1 读取数据"
   ]
  },
  {
   "cell_type": "code",
   "execution_count": 3,
   "metadata": {},
   "outputs": [],
   "source": [
    "# 告诉文本阅读器，要读取的文本的格式是怎样的\n",
    "reader = Reader(line_format='user item rating timestamp', sep=',', skip_lines=1)"
   ]
  },
  {
   "cell_type": "code",
   "execution_count": 4,
   "metadata": {},
   "outputs": [],
   "source": [
    "# 加载数据\n",
    "dataset = Dataset.load_from_file('./ratings.csv', reader=reader)"
   ]
  },
  {
   "cell_type": "code",
   "execution_count": 5,
   "metadata": {},
   "outputs": [],
   "source": [
    "df = pd.read_csv('./ratings.csv')"
   ]
  },
  {
   "cell_type": "code",
   "execution_count": 6,
   "metadata": {},
   "outputs": [
    {
     "data": {
      "text/html": [
       "<div>\n",
       "<style scoped>\n",
       "    .dataframe tbody tr th:only-of-type {\n",
       "        vertical-align: middle;\n",
       "    }\n",
       "\n",
       "    .dataframe tbody tr th {\n",
       "        vertical-align: top;\n",
       "    }\n",
       "\n",
       "    .dataframe thead th {\n",
       "        text-align: right;\n",
       "    }\n",
       "</style>\n",
       "<table border=\"1\" class=\"dataframe\">\n",
       "  <thead>\n",
       "    <tr style=\"text-align: right;\">\n",
       "      <th></th>\n",
       "      <th>userId</th>\n",
       "      <th>movieId</th>\n",
       "      <th>rating</th>\n",
       "      <th>timestamp</th>\n",
       "    </tr>\n",
       "  </thead>\n",
       "  <tbody>\n",
       "    <tr>\n",
       "      <th>0</th>\n",
       "      <td>1</td>\n",
       "      <td>2</td>\n",
       "      <td>3.5</td>\n",
       "      <td>1112486027</td>\n",
       "    </tr>\n",
       "    <tr>\n",
       "      <th>1</th>\n",
       "      <td>1</td>\n",
       "      <td>29</td>\n",
       "      <td>3.5</td>\n",
       "      <td>1112484676</td>\n",
       "    </tr>\n",
       "  </tbody>\n",
       "</table>\n",
       "</div>"
      ],
      "text/plain": [
       "   userId  movieId  rating   timestamp\n",
       "0       1        2     3.5  1112486027\n",
       "1       1       29     3.5  1112484676"
      ]
     },
     "execution_count": 6,
     "metadata": {},
     "output_type": "execute_result"
    }
   ],
   "source": [
    "df.head(2)"
   ]
  },
  {
   "cell_type": "markdown",
   "metadata": {},
   "source": [
    "# 2 基于邻域的协同过滤——4种算法对比"
   ]
  },
  {
   "cell_type": "markdown",
   "metadata": {},
   "source": [
    "## 2.1 KNNBasic"
   ]
  },
  {
   "cell_type": "markdown",
   "metadata": {},
   "source": [
    "### 2.1.1 基于用户的协同过滤"
   ]
  },
  {
   "cell_type": "code",
   "execution_count": 7,
   "metadata": {},
   "outputs": [],
   "source": [
    "# 3折交叉验证实例\n",
    "kf = KFold(n_splits=3)"
   ]
  },
  {
   "cell_type": "code",
   "execution_count": 8,
   "metadata": {},
   "outputs": [],
   "source": [
    "sim_options = {'user_based': True,  # True表示基于用户的协同过滤\n",
    "               'name':'MSD',        # 计算商品之间相似度的方法使用均方差\n",
    "               'min_support': 10,     # 支持度筛选\n",
    "               'verbose': False}   \n",
    "\n",
    "knnbasic_u = KNNBasic(k=40,  # 邻域的个数\n",
    "                    sim_options=sim_options,\n",
    "                   )"
   ]
  },
  {
   "cell_type": "code",
   "execution_count": 9,
   "metadata": {},
   "outputs": [
    {
     "name": "stdout",
     "output_type": "stream",
     "text": [
      "Computing the msd similarity matrix...\n",
      "Done computing similarity matrix.\n",
      "RMSE: 0.8961\n",
      "MAE:  0.6841\n",
      "Computing the msd similarity matrix...\n",
      "Done computing similarity matrix.\n",
      "RMSE: 0.8974\n",
      "MAE:  0.6859\n",
      "Computing the msd similarity matrix...\n",
      "Done computing similarity matrix.\n",
      "RMSE: 0.8947\n",
      "MAE:  0.6838\n",
      "CPU times: user 9min 32s, sys: 5.34 s, total: 9min 37s\n",
      "Wall time: 9min 54s\n"
     ]
    }
   ],
   "source": [
    "%%time\n",
    "for train,test in kf.split(dataset):\n",
    "    # 在训练集上训练\n",
    "    knnbasic_u.fit(train)\n",
    "    # 测试集上预测\n",
    "    predictions=knnbasic_u.test(test)\n",
    "    # 计算RMSE\n",
    "    accuracy.rmse(predictions, verbose=True)\n",
    "    accuracy.mae(predictions, verbose=True)"
   ]
  },
  {
   "cell_type": "code",
   "execution_count": 10,
   "metadata": {},
   "outputs": [
    {
     "data": {
      "text/plain": [
       "Prediction(uid='1', iid='2', r_ui=3.5, est=3.390175951663089, details={'actual_k': 40, 'was_impossible': False})"
      ]
     },
     "execution_count": 10,
     "metadata": {},
     "output_type": "execute_result"
    }
   ],
   "source": [
    "knnbasic_u.predict(uid='1', iid='2', r_ui=3.5)"
   ]
  },
  {
   "cell_type": "code",
   "execution_count": 36,
   "metadata": {},
   "outputs": [
    {
     "data": {
      "text/plain": [
       "0.8960666666666667"
      ]
     },
     "execution_count": 36,
     "metadata": {},
     "output_type": "execute_result"
    }
   ],
   "source": [
    "(0.8947 + 0.8974 + 0.8961) / 3"
   ]
  },
  {
   "cell_type": "markdown",
   "metadata": {},
   "source": [
    "### 2.1.2 基于商品的协同过滤"
   ]
  },
  {
   "cell_type": "code",
   "execution_count": 11,
   "metadata": {},
   "outputs": [],
   "source": [
    "# 3折交叉验证实例\n",
    "kf = KFold(n_splits=3)"
   ]
  },
  {
   "cell_type": "code",
   "execution_count": 12,
   "metadata": {},
   "outputs": [],
   "source": [
    "sim_options = {'user_based': False,  # False表示基于商品的协同过滤\n",
    "               'name':'MSD',        # 计算商品之间相似度的方法使用均方差\n",
    "               'min_support': 10,     # 0代表不因为支持度筛选\n",
    "               'verbose': True}   # \n",
    "\n",
    "knnbasic_i = KNNBasic(k=40,  # 邻域的个数\n",
    "                    sim_options=sim_options,\n",
    "                   )"
   ]
  },
  {
   "cell_type": "code",
   "execution_count": 13,
   "metadata": {},
   "outputs": [
    {
     "name": "stdout",
     "output_type": "stream",
     "text": [
      "Computing the msd similarity matrix...\n",
      "Done computing similarity matrix.\n",
      "RMSE: 0.9067\n",
      "Computing the msd similarity matrix...\n",
      "Done computing similarity matrix.\n",
      "RMSE: 0.9054\n",
      "Computing the msd similarity matrix...\n",
      "Done computing similarity matrix.\n",
      "RMSE: 0.9026\n",
      "CPU times: user 6min 14s, sys: 11.8 s, total: 6min 26s\n",
      "Wall time: 6min 37s\n"
     ]
    }
   ],
   "source": [
    "%%time\n",
    "for train,test in kf.split(dataset):\n",
    "    # 在训练集上训练\n",
    "    knnbasic_i.fit(train)\n",
    "    # 测试集上预测\n",
    "    predictions=knnbasic_i.test(test)\n",
    "    # 计算RMSE\n",
    "    accuracy.rmse(predictions, verbose=True)"
   ]
  },
  {
   "cell_type": "code",
   "execution_count": 14,
   "metadata": {},
   "outputs": [
    {
     "data": {
      "text/plain": [
       "Prediction(uid='1', iid='2', r_ui=3.5, est=3.671374060490465, details={'actual_k': 40, 'was_impossible': False})"
      ]
     },
     "execution_count": 14,
     "metadata": {},
     "output_type": "execute_result"
    }
   ],
   "source": [
    "knnbasic_i.predict(uid='1', iid='2', r_ui=3.5)"
   ]
  },
  {
   "cell_type": "code",
   "execution_count": 37,
   "metadata": {},
   "outputs": [
    {
     "data": {
      "text/plain": [
       "0.9049"
      ]
     },
     "execution_count": 37,
     "metadata": {},
     "output_type": "execute_result"
    }
   ],
   "source": [
    "(0.9067 + 0.9054 + 0.9026) / 3"
   ]
  },
  {
   "cell_type": "markdown",
   "metadata": {},
   "source": [
    "## 2.2 KNNBasicWithMeans"
   ]
  },
  {
   "cell_type": "markdown",
   "metadata": {},
   "source": [
    "### 2.2.1 基于用户"
   ]
  },
  {
   "cell_type": "code",
   "execution_count": 15,
   "metadata": {},
   "outputs": [],
   "source": [
    "# 3折交叉验证实例\n",
    "kf = KFold(n_splits=3)"
   ]
  },
  {
   "cell_type": "code",
   "execution_count": 16,
   "metadata": {},
   "outputs": [],
   "source": [
    "sim_options = {'user_based': True,  # True表示基于用户的协同过滤\n",
    "               'name':'MSD',        # 计算商品之间相似度的方法使用均方差\n",
    "               'min_support': 10,     # 支持度筛选\n",
    "               'verbose': False}   # \n",
    "\n",
    "knnmeans_u = KNNWithMeans(k=40,  # 邻域的个数\n",
    "                        sim_options=sim_options,\n",
    "                   )"
   ]
  },
  {
   "cell_type": "code",
   "execution_count": 17,
   "metadata": {},
   "outputs": [
    {
     "name": "stdout",
     "output_type": "stream",
     "text": [
      "Computing the msd similarity matrix...\n",
      "Done computing similarity matrix.\n",
      "RMSE: 0.8751\n",
      "Computing the msd similarity matrix...\n",
      "Done computing similarity matrix.\n",
      "RMSE: 0.8747\n",
      "Computing the msd similarity matrix...\n",
      "Done computing similarity matrix.\n",
      "RMSE: 0.8771\n",
      "CPU times: user 9min 38s, sys: 4.99 s, total: 9min 43s\n",
      "Wall time: 9min 55s\n"
     ]
    }
   ],
   "source": [
    "%%time\n",
    "for train,test in kf.split(dataset):\n",
    "    # 在训练集上训练\n",
    "    knnmeans_u.fit(train)\n",
    "    # 测试集上预测\n",
    "    predictions=knnmeans_u.test(test)\n",
    "    # 计算RMSE\n",
    "    accuracy.rmse(predictions, verbose=True)"
   ]
  },
  {
   "cell_type": "code",
   "execution_count": 18,
   "metadata": {},
   "outputs": [
    {
     "data": {
      "text/plain": [
       "Prediction(uid='1', iid='2', r_ui=3.5, est=3.3996500571907347, details={'actual_k': 40, 'was_impossible': False})"
      ]
     },
     "execution_count": 18,
     "metadata": {},
     "output_type": "execute_result"
    }
   ],
   "source": [
    "knnmeans_u.predict(uid='1', iid='2', r_ui=3.5)"
   ]
  },
  {
   "cell_type": "code",
   "execution_count": 38,
   "metadata": {},
   "outputs": [
    {
     "data": {
      "text/plain": [
       "0.8756333333333334"
      ]
     },
     "execution_count": 38,
     "metadata": {},
     "output_type": "execute_result"
    }
   ],
   "source": [
    "(0.8751 + 0.8747 + 0.8771) / 3"
   ]
  },
  {
   "cell_type": "markdown",
   "metadata": {},
   "source": [
    "### 2.2.2 基于商品"
   ]
  },
  {
   "cell_type": "code",
   "execution_count": 19,
   "metadata": {},
   "outputs": [],
   "source": [
    "# 3折交叉验证实例\n",
    "kf = KFold(n_splits=3)"
   ]
  },
  {
   "cell_type": "code",
   "execution_count": 20,
   "metadata": {},
   "outputs": [],
   "source": [
    "sim_options = {'user_based': False,  # False表示基于商品的协同过滤\n",
    "               'name':'MSD',        # 计算商品之间相似度的方法使用均方差\n",
    "               'min_support': 10,     # 0代表不因为支持度筛选\n",
    "               'verbose': False} \n",
    "\n",
    "knnmeans_i = KNNWithMeans(k=40,  # 邻域的个数\n",
    "                        sim_options=sim_options,\n",
    "                   )"
   ]
  },
  {
   "cell_type": "code",
   "execution_count": 21,
   "metadata": {
    "code_folding": []
   },
   "outputs": [
    {
     "name": "stdout",
     "output_type": "stream",
     "text": [
      "Computing the msd similarity matrix...\n",
      "Done computing similarity matrix.\n",
      "RMSE: 0.8588\n",
      "Computing the msd similarity matrix...\n",
      "Done computing similarity matrix.\n",
      "RMSE: 0.8589\n",
      "Computing the msd similarity matrix...\n",
      "Done computing similarity matrix.\n",
      "RMSE: 0.8572\n",
      "CPU times: user 6min 14s, sys: 12.4 s, total: 6min 27s\n",
      "Wall time: 6min 38s\n"
     ]
    }
   ],
   "source": [
    "%%time\n",
    "for train,tests in kf.split(dataset):\n",
    "    knnmeans_i.fit(train)\n",
    "    preds = knnmeans_i.test(tests)\n",
    "    accuracy.rmse(preds, verbose=True)"
   ]
  },
  {
   "cell_type": "code",
   "execution_count": 22,
   "metadata": {},
   "outputs": [
    {
     "data": {
      "text/plain": [
       "Prediction(uid='1', iid='2', r_ui=3.5, est=3.6045238476068833, details={'actual_k': 40, 'was_impossible': False})"
      ]
     },
     "execution_count": 22,
     "metadata": {},
     "output_type": "execute_result"
    }
   ],
   "source": [
    "knnmeans_i.predict(uid='1', iid='2', r_ui=3.5)"
   ]
  },
  {
   "cell_type": "code",
   "execution_count": 39,
   "metadata": {},
   "outputs": [
    {
     "data": {
      "text/plain": [
       "0.8583"
      ]
     },
     "execution_count": 39,
     "metadata": {},
     "output_type": "execute_result"
    }
   ],
   "source": [
    "(0.8572 + 0.8589 + 0.8588) / 3"
   ]
  },
  {
   "cell_type": "markdown",
   "metadata": {},
   "source": [
    "## 2.3 KNNWithZScore"
   ]
  },
  {
   "cell_type": "markdown",
   "metadata": {},
   "source": [
    "### 2.3.1 基于用户"
   ]
  },
  {
   "cell_type": "code",
   "execution_count": 23,
   "metadata": {},
   "outputs": [],
   "source": [
    "# 3折交叉验证实例\n",
    "kf = KFold(n_splits=3)"
   ]
  },
  {
   "cell_type": "code",
   "execution_count": 24,
   "metadata": {},
   "outputs": [],
   "source": [
    "sim_options = {\n",
    "    'user_based': True,\n",
    "    'name':'MSD',\n",
    "    'min_support': 10,\n",
    "    'verbose': False\n",
    "}\n",
    "\n",
    "knnzscore_u = KNNWithZScore(k=40, sim_options=sim_options) "
   ]
  },
  {
   "cell_type": "code",
   "execution_count": 25,
   "metadata": {},
   "outputs": [
    {
     "name": "stdout",
     "output_type": "stream",
     "text": [
      "Computing the msd similarity matrix...\n",
      "Done computing similarity matrix.\n",
      "RMSE: 0.8758\n",
      "Computing the msd similarity matrix...\n",
      "Done computing similarity matrix.\n",
      "RMSE: 0.8744\n",
      "Computing the msd similarity matrix...\n",
      "Done computing similarity matrix.\n",
      "RMSE: 0.8733\n",
      "CPU times: user 10min 1s, sys: 7.61 s, total: 10min 9s\n",
      "Wall time: 10min 36s\n"
     ]
    }
   ],
   "source": [
    "%%time\n",
    "for train,tests in  kf.split(dataset):\n",
    "    knnzscore_u.fit(train)\n",
    "    preds=knnzscore_u.test(tests)\n",
    "    accuracy.rmse(preds, verbose=True)"
   ]
  },
  {
   "cell_type": "code",
   "execution_count": 26,
   "metadata": {},
   "outputs": [
    {
     "data": {
      "text/plain": [
       "Prediction(uid='1', iid='2', r_ui=3.5, est=3.604964020611294, details={'actual_k': 40, 'was_impossible': False})"
      ]
     },
     "execution_count": 26,
     "metadata": {},
     "output_type": "execute_result"
    }
   ],
   "source": [
    "knnzscore_u.predict('1', '2', 3.5)"
   ]
  },
  {
   "cell_type": "code",
   "execution_count": 40,
   "metadata": {},
   "outputs": [
    {
     "data": {
      "text/plain": [
       "0.8744999999999999"
      ]
     },
     "execution_count": 40,
     "metadata": {},
     "output_type": "execute_result"
    }
   ],
   "source": [
    "(0.8733 + 0.8744 + 0.8758) / 3"
   ]
  },
  {
   "cell_type": "markdown",
   "metadata": {},
   "source": [
    "### 2.3.2 基于商品"
   ]
  },
  {
   "cell_type": "code",
   "execution_count": 27,
   "metadata": {},
   "outputs": [],
   "source": [
    "kf = KFold(n_splits=3)\n",
    "\n",
    "sim_options = {\n",
    "    'user_based': False,\n",
    "    'name':'MSD',\n",
    "    'min_support': 10,\n",
    "    'verbose': False\n",
    "}\n",
    "\n",
    "knnzscore_i = KNNWithZScore(k=40, sim_options=sim_options) "
   ]
  },
  {
   "cell_type": "code",
   "execution_count": 28,
   "metadata": {},
   "outputs": [
    {
     "name": "stdout",
     "output_type": "stream",
     "text": [
      "Computing the msd similarity matrix...\n",
      "Done computing similarity matrix.\n",
      "RMSE: 0.8605\n",
      "Computing the msd similarity matrix...\n",
      "Done computing similarity matrix.\n",
      "RMSE: 0.8606\n",
      "Computing the msd similarity matrix...\n",
      "Done computing similarity matrix.\n",
      "RMSE: 0.8608\n"
     ]
    }
   ],
   "source": [
    "for train,tests in kf.split(dataset):\n",
    "    knnzscore_i.fit(train)\n",
    "    preds = knnzscore_i.test(tests)\n",
    "    accuracy.rmse(preds, verbose=True)"
   ]
  },
  {
   "cell_type": "code",
   "execution_count": 29,
   "metadata": {},
   "outputs": [
    {
     "data": {
      "text/plain": [
       "Prediction(uid='1', iid='2', r_ui=3.5, est=3.621014084779232, details={'actual_k': 40, 'was_impossible': False})"
      ]
     },
     "execution_count": 29,
     "metadata": {},
     "output_type": "execute_result"
    }
   ],
   "source": [
    "knnzscore_i.predict('1', '2', 3.5)"
   ]
  },
  {
   "cell_type": "code",
   "execution_count": 41,
   "metadata": {},
   "outputs": [
    {
     "data": {
      "text/plain": [
       "0.8606333333333334"
      ]
     },
     "execution_count": 41,
     "metadata": {},
     "output_type": "execute_result"
    }
   ],
   "source": [
    "(0.8608 + 0.8606 + 0.8605) / 3"
   ]
  },
  {
   "cell_type": "markdown",
   "metadata": {},
   "source": [
    "## 2.4 KNNBaseline"
   ]
  },
  {
   "cell_type": "markdown",
   "metadata": {},
   "source": [
    "### 2.4.1 基于用户"
   ]
  },
  {
   "cell_type": "code",
   "execution_count": 30,
   "metadata": {},
   "outputs": [],
   "source": [
    "kf = KFold(n_splits=3)\n",
    "\n",
    "sim_options = {\n",
    "    'user_based': True,\n",
    "    'name': 'MSD',\n",
    "    'min_support': 10,\n",
    "    'verbose': False\n",
    "}\n",
    "\n",
    "knnbl_u = KNNBaseline(k=40, sim_options=sim_options)"
   ]
  },
  {
   "cell_type": "code",
   "execution_count": 31,
   "metadata": {},
   "outputs": [
    {
     "name": "stdout",
     "output_type": "stream",
     "text": [
      "Estimating biases using als...\n",
      "Computing the msd similarity matrix...\n",
      "Done computing similarity matrix.\n",
      "RMSE: 0.8566\n",
      "Estimating biases using als...\n",
      "Computing the msd similarity matrix...\n",
      "Done computing similarity matrix.\n",
      "RMSE: 0.8530\n",
      "Estimating biases using als...\n",
      "Computing the msd similarity matrix...\n",
      "Done computing similarity matrix.\n",
      "RMSE: 0.8534\n"
     ]
    }
   ],
   "source": [
    "for train,tests in kf.split(dataset):\n",
    "    knnbl_u.fit(train)\n",
    "    preds = knnbl_u.test(tests)\n",
    "    accuracy.rmse(preds, verbose=True)"
   ]
  },
  {
   "cell_type": "code",
   "execution_count": 32,
   "metadata": {},
   "outputs": [
    {
     "data": {
      "text/plain": [
       "Prediction(uid='1', iid='2', r_ui=3.5, est=3.2954546001656913, details={'actual_k': 40, 'was_impossible': False})"
      ]
     },
     "execution_count": 32,
     "metadata": {},
     "output_type": "execute_result"
    }
   ],
   "source": [
    "knnbl_u.predict('1', '2', 3.5)"
   ]
  },
  {
   "cell_type": "code",
   "execution_count": 42,
   "metadata": {},
   "outputs": [
    {
     "data": {
      "text/plain": [
       "0.8531333333333334"
      ]
     },
     "execution_count": 42,
     "metadata": {},
     "output_type": "execute_result"
    }
   ],
   "source": [
    "(0.8534 + 0.8530 + 0.8530) / 3"
   ]
  },
  {
   "cell_type": "markdown",
   "metadata": {},
   "source": [
    "### 2.4.2 基于商品"
   ]
  },
  {
   "cell_type": "code",
   "execution_count": 33,
   "metadata": {},
   "outputs": [],
   "source": [
    "kf = KFold(n_splits=3)\n",
    "\n",
    "sim_options = {\n",
    "    'user_based': False,\n",
    "    'name': 'MSD',\n",
    "    'min_support': 10,\n",
    "    'verbose': False\n",
    "}\n",
    "\n",
    "knnbl_i = KNNBaseline(k=40, sim_options=sim_options)"
   ]
  },
  {
   "cell_type": "code",
   "execution_count": 34,
   "metadata": {},
   "outputs": [
    {
     "name": "stdout",
     "output_type": "stream",
     "text": [
      "Estimating biases using als...\n",
      "Computing the msd similarity matrix...\n",
      "Done computing similarity matrix.\n",
      "RMSE: 0.8491\n",
      "Estimating biases using als...\n",
      "Computing the msd similarity matrix...\n",
      "Done computing similarity matrix.\n",
      "RMSE: 0.8501\n",
      "Estimating biases using als...\n",
      "Computing the msd similarity matrix...\n",
      "Done computing similarity matrix.\n",
      "RMSE: 0.8492\n",
      "CPU times: user 6min 57s, sys: 15.1 s, total: 7min 12s\n",
      "Wall time: 7min 24s\n"
     ]
    }
   ],
   "source": [
    "%%time\n",
    "for train,tests in kf.split(dataset):\n",
    "    knnbl_i.fit(train)\n",
    "    preds = knnbl_i.test(tests)\n",
    "    accuracy.rmse(preds, verbose=True)"
   ]
  },
  {
   "cell_type": "code",
   "execution_count": 35,
   "metadata": {},
   "outputs": [
    {
     "data": {
      "text/plain": [
       "Prediction(uid='1', iid='2', r_ui=3.5, est=3.5491711471944325, details={'actual_k': 40, 'was_impossible': False})"
      ]
     },
     "execution_count": 35,
     "metadata": {},
     "output_type": "execute_result"
    }
   ],
   "source": [
    "knnbl_i.predict('1', '2', 3.5)"
   ]
  },
  {
   "cell_type": "code",
   "execution_count": 43,
   "metadata": {},
   "outputs": [
    {
     "data": {
      "text/plain": [
       "0.8494666666666667"
      ]
     },
     "execution_count": 43,
     "metadata": {},
     "output_type": "execute_result"
    }
   ],
   "source": [
    "(0.8492 + 0.8501 + 0.8491) / 3"
   ]
  },
  {
   "cell_type": "markdown",
   "metadata": {},
   "source": [
    "# 3 总结："
   ]
  },
  {
   "cell_type": "markdown",
   "metadata": {},
   "source": [
    "1. 4种算法耗时差不多；\n",
    "2. 通过下表可以看出，KNNBaseline的RMSE最小，它基于商品的协同过滤算法预测评分最接近真实值。"
   ]
  },
  {
   "cell_type": "markdown",
   "metadata": {},
   "source": [
    "各算法RMSE及对相同用户和商品的预测评分，真实评分3.5"
   ]
  },
  {
   "cell_type": "markdown",
   "metadata": {},
   "source": [
    " |   算法             | 基于用户RMSE | 基于商品RMSE | 基于用户预测评分  | 基于商品预测评分 | \n",
    " | :----------------: | :-----------: | :-----------: | :-------------- :| :--------------: | \n",
    " | KNNBasic          |     0.896   |    0.9049   |      3.39      |      3.60      | \n",
    " | KNNBasicWithMeans |     0.8756  |    0.8583    |      3.40      |      3.60      | \n",
    " | KNNWithZScore     |     0.8745   |    0.8606  |      3.60      | 3.62  |    \n",
    " | KNNBaseline       |     0.8531   |   0.8495    |     3.30      | 3.55  | "
   ]
  },
  {
   "cell_type": "code",
   "execution_count": null,
   "metadata": {},
   "outputs": [],
   "source": []
  }
 ],
 "metadata": {
  "kernelspec": {
   "display_name": "Python [conda env:envspark]",
   "language": "python",
   "name": "conda-env-envspark-py"
  },
  "language_info": {
   "codemirror_mode": {
    "name": "ipython",
    "version": 3
   },
   "file_extension": ".py",
   "mimetype": "text/x-python",
   "name": "python",
   "nbconvert_exporter": "python",
   "pygments_lexer": "ipython3",
   "version": "3.7.7"
  },
  "toc": {
   "base_numbering": 1,
   "nav_menu": {},
   "number_sections": false,
   "sideBar": true,
   "skip_h1_title": false,
   "title_cell": "Table of Contents",
   "title_sidebar": "Contents",
   "toc_cell": true,
   "toc_position": {
    "height": "calc(100% - 180px)",
    "left": "10px",
    "top": "150px",
    "width": "288px"
   },
   "toc_section_display": true,
   "toc_window_display": true
  }
 },
 "nbformat": 4,
 "nbformat_minor": 4
}
